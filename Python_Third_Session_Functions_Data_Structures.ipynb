{
 "cells": [
  {
   "cell_type": "markdown",
   "id": "8e0c1d70",
   "metadata": {},
   "source": [
    "# **Session 3: Functions and Data Structures**\n",
    "\n",
    "#### By Vincent Ondima Kongo - African Institute for Mathematical Sciences (AIMS) Graduate.\n",
    "##### Bsc. Applied Statistics with IT from Maseno University \n",
    "##### Msc. Mathematical Sciences from AIMS in Collaboration with Stellenbosch University\n"
   ]
  },
  {
   "cell_type": "markdown",
   "id": "069a8368",
   "metadata": {},
   "source": [
    "## **📌 Learning Objectives:**\n",
    "By the end of this session, you will:\n",
    "- Understand **functions** and why they are useful.\n",
    "- Learn how to define and call functions in Python.\n",
    "- Work with **arguments and return values**.\n",
    "- Explore different **data structures** in Python: Lists, Tuples, and Dictionaries.\n",
    "- Use loops and functions to manipulate data structures.\n",
    "\n",
    "🚀 **Let's get started!**"
   ]
  },
  {
   "cell_type": "markdown",
   "id": "109e4d62",
   "metadata": {},
   "source": [
    "## **1️⃣ Functions in Python**\n",
    "### **🔹 What is a Function?**\n",
    "A **function** is a reusable block of code that performs a specific task. It helps in reducing code repetition and improving modularity.\n",
    "\n",
    "**Key Benefits of Functions:**\n",
    "- **Code Reusability**: Write once, use multiple times.\n",
    "- **Improves Readability**: Code is easier to understand and maintain.\n",
    "- **Encapsulation**: Keeps complex logic within a function, simplifying the main program.\n",
    "\n",
    "### **🔹 Defining and Calling Functions**\n",
    "**Syntax:**\n",
    "```python\n",
    "def function_name(parameters):\n",
    "    # Function body\n",
    "    return result\n",
    "```"
   ]
  },
  {
   "cell_type": "code",
   "execution_count": null,
   "id": "724ffc23",
   "metadata": {},
   "outputs": [],
   "source": []
  },
  {
   "cell_type": "code",
   "execution_count": 48,
   "id": "b4f9c221",
   "metadata": {},
   "outputs": [
    {
     "name": "stdout",
     "output_type": "stream",
     "text": [
      "Hello, Alice! Welcome to Python Functions.\n"
     ]
    }
   ],
   "source": [
    "# Example: Simple Function Definition and Call\n",
    "\n",
    "def greet(name):\n",
    "    \"\"\"Function that greets a user\"\"\"\n",
    "    print(f\"Hello, {name}! Welcome to Python Functions.\")\n",
    "\n",
    "# # Calling the function\n",
    "greet(\"Alice\")"
   ]
  },
  {
   "cell_type": "code",
   "execution_count": 49,
   "id": "ac6e27ad",
   "metadata": {},
   "outputs": [
    {
     "name": "stdout",
     "output_type": "stream",
     "text": [
      "Hello, Magdalene! Welcome to Python Functions.\n"
     ]
    }
   ],
   "source": [
    "greet(\"Magdalene\")"
   ]
  },
  {
   "cell_type": "code",
   "execution_count": 50,
   "id": "eb61017d",
   "metadata": {},
   "outputs": [
    {
     "name": "stdout",
     "output_type": "stream",
     "text": [
      "Hello, Willy! Welcome to Python Functions.\n"
     ]
    }
   ],
   "source": [
    "greet(\"Willy\")"
   ]
  },
  {
   "cell_type": "code",
   "execution_count": 52,
   "id": "6edad8aa",
   "metadata": {},
   "outputs": [
    {
     "name": "stdout",
     "output_type": "stream",
     "text": [
      "Hello, Glorias! Welcome to Python Functions.\n"
     ]
    }
   ],
   "source": [
    "greet(\"Glorias\")"
   ]
  },
  {
   "cell_type": "code",
   "execution_count": 53,
   "id": "0a93b2be",
   "metadata": {},
   "outputs": [
    {
     "name": "stdout",
     "output_type": "stream",
     "text": [
      "Hello, I want to learn Python Today!!\n"
     ]
    }
   ],
   "source": [
    "def my_function():\n",
    "    print(f\"Hello, I want to learn Python Today!!\")\n",
    "\n",
    "my_function()"
   ]
  },
  {
   "cell_type": "code",
   "execution_count": 54,
   "id": "22c9a72e",
   "metadata": {},
   "outputs": [
    {
     "name": "stdout",
     "output_type": "stream",
     "text": [
      "Hello, Glorias! Welcome to Python.\n"
     ]
    }
   ],
   "source": [
    "# Function with a default parameter\n",
    "def greet_user(name=\"Guest\"):\n",
    "    print(f\"Hello, {name}! Welcome to Python.\")\n",
    "\n",
    "# Calling the function with and without argument\n",
    "greet_user(\"Glorias\")"
   ]
  },
  {
   "cell_type": "code",
   "execution_count": 55,
   "id": "6264c866",
   "metadata": {},
   "outputs": [
    {
     "name": "stdout",
     "output_type": "stream",
     "text": [
      "Hello, Guest! Welcome to Python.\n"
     ]
    }
   ],
   "source": [
    "greet_user()"
   ]
  },
  {
   "cell_type": "markdown",
   "id": "06b046b9",
   "metadata": {},
   "source": [
    "### **🔹 Function with Return Values**\n",
    "A function can return a value using the `return` statement.\n",
    "\n",
    "**Example:**"
   ]
  },
  {
   "cell_type": "code",
   "execution_count": 57,
   "id": "d659c67b",
   "metadata": {},
   "outputs": [
    {
     "name": "stdout",
     "output_type": "stream",
     "text": [
      "Sum: 15\n"
     ]
    }
   ],
   "source": [
    "# Function with Return Value\n",
    "\n",
    "def add_numbers(a, b):\n",
    "    \"\"\"Function that returns the sum of two numbers\"\"\"\n",
    "    return a + b\n",
    "\n",
    "# Calling the function and storing the result\n",
    "result = add_numbers(5, 10)\n",
    "print(f\"Sum: {result}\")"
   ]
  },
  {
   "cell_type": "code",
   "execution_count": null,
   "id": "85f0e1cb",
   "metadata": {},
   "outputs": [],
   "source": []
  },
  {
   "cell_type": "code",
   "execution_count": 58,
   "id": "c13e7fa1",
   "metadata": {},
   "outputs": [
    {
     "name": "stdout",
     "output_type": "stream",
     "text": [
      "6\n",
      "24\n",
      "24\n"
     ]
    }
   ],
   "source": [
    "# Function that takes multiple arguments\n",
    "def multiply(*numbers):\n",
    "    result = 1\n",
    "    for num in numbers:\n",
    "        result *= num\n",
    "        # result = result*num\n",
    "    return result\n",
    "\n",
    "# Calling the function with different numbers\n",
    "print(multiply(2, 3))       \n",
    "print(multiply(2, 3, 4))    \n",
    "print(multiply(1, 2, 3, 4)) \n"
   ]
  },
  {
   "cell_type": "code",
   "execution_count": 59,
   "id": "f547da60",
   "metadata": {},
   "outputs": [
    {
     "name": "stdout",
     "output_type": "stream",
     "text": [
      "Factorial of 5 is: 120\n"
     ]
    }
   ],
   "source": [
    "# Recursive function for factorial\n",
    "def factorial(n):\n",
    "    if n == 1:\n",
    "        return 1\n",
    "    return n * factorial(n - 1)\n",
    "\n",
    "# Calling the function\n",
    "print(f\"Factorial of 5 is: {factorial(5)}\")\n"
   ]
  },
  {
   "cell_type": "code",
   "execution_count": null,
   "id": "1ffdf5f4",
   "metadata": {},
   "outputs": [],
   "source": [
    "5!\n",
    "\n",
    "5 x 4 x 3 x 2 x 1 = 120\n",
    "\n",
    "1! = 1\n",
    "2! = 2 x 1\n",
    "\n",
    "5! = 5 x 4!"
   ]
  },
  {
   "cell_type": "code",
   "execution_count": 60,
   "id": "6669f0bd",
   "metadata": {
    "scrolled": true
   },
   "outputs": [
    {
     "name": "stdout",
     "output_type": "stream",
     "text": [
      "10 × 1 = 10\n",
      "10 × 2 = 20\n",
      "10 × 3 = 30\n",
      "10 × 4 = 40\n",
      "10 × 5 = 50\n",
      "10 × 6 = 60\n",
      "10 × 7 = 70\n",
      "10 × 8 = 80\n",
      "10 × 9 = 90\n",
      "10 × 10 = 100\n"
     ]
    }
   ],
   "source": [
    "# Function to print the multiplication table of a number using a for loop\n",
    "\n",
    "def multiplication_table(number): #MultiplicationTable\n",
    "    \"\"\"Prints the multiplication table of a given number.\"\"\"\n",
    "    for i in range(1, 11):  # Looping through numbers 1 to 10\n",
    "        print(f\"{number} × {i} = {number * i}\")\n",
    "\n",
    "# Calling the function with a specific number\n",
    "multiplication_table(10)  # You can change this number for other multiplication tables"
   ]
  },
  {
   "cell_type": "code",
   "execution_count": 61,
   "id": "c27a1695",
   "metadata": {
    "scrolled": true
   },
   "outputs": [
    {
     "name": "stdout",
     "output_type": "stream",
     "text": [
      "5 × 1 = 5\n",
      "5 × 2 = 10\n",
      "5 × 3 = 15\n",
      "5 × 4 = 20\n",
      "5 × 5 = 25\n",
      "5 × 6 = 30\n",
      "5 × 7 = 35\n",
      "5 × 8 = 40\n",
      "5 × 9 = 45\n",
      "5 × 10 = 50\n"
     ]
    }
   ],
   "source": [
    "multiplication_table(5)  "
   ]
  },
  {
   "cell_type": "code",
   "execution_count": 63,
   "id": "13ff9395",
   "metadata": {},
   "outputs": [
    {
     "name": "stdout",
     "output_type": "stream",
     "text": [
      "31 × 1 = 31\n",
      "31 × 2 = 62\n",
      "31 × 3 = 93\n",
      "31 × 4 = 124\n",
      "31 × 5 = 155\n",
      "31 × 6 = 186\n",
      "31 × 7 = 217\n",
      "31 × 8 = 248\n",
      "31 × 9 = 279\n",
      "31 × 10 = 310\n"
     ]
    }
   ],
   "source": [
    "multiplication_table(31)  "
   ]
  },
  {
   "cell_type": "code",
   "execution_count": null,
   "id": "6e93deba",
   "metadata": {},
   "outputs": [],
   "source": []
  },
  {
   "cell_type": "code",
   "execution_count": null,
   "id": "b4f7d912",
   "metadata": {},
   "outputs": [],
   "source": [
    "0 1 1 2 3 5 8 13 21 34 55\n",
    "\n",
    "0 1"
   ]
  },
  {
   "cell_type": "code",
   "execution_count": 64,
   "id": "30fe348e",
   "metadata": {},
   "outputs": [
    {
     "name": "stdout",
     "output_type": "stream",
     "text": [
      "The 10th Fibonacci number is: 55\n"
     ]
    }
   ],
   "source": [
    "#  Recursive function to calculate the nth Fibonacci number\n",
    "def fibonacci(n):\n",
    "    \"\"\"Returns the nth Fibonacci number using recursion.\"\"\"\n",
    "    if n <= 0:\n",
    "        return 0\n",
    "    elif n == 1:\n",
    "        return 1\n",
    "    else:\n",
    "        return fibonacci(n - 1) + fibonacci(n - 2)\n",
    "\n",
    "# Calling the function to print Fibonacci numbers\n",
    "n = 10  # You can change this to any number\n",
    "print(f\"The {n}th Fibonacci number is: {fibonacci(n)}\")\n"
   ]
  },
  {
   "cell_type": "code",
   "execution_count": 66,
   "id": "57105745",
   "metadata": {},
   "outputs": [
    {
     "data": {
      "text/plain": [
       "21"
      ]
     },
     "execution_count": 66,
     "metadata": {},
     "output_type": "execute_result"
    }
   ],
   "source": [
    "fibonacci(8)"
   ]
  },
  {
   "cell_type": "markdown",
   "id": "529ca84b",
   "metadata": {},
   "source": [
    "# 📌Lambda Functions\n",
    "\n",
    "##  What is a Lambda Function in Python?\n",
    "\n",
    "A **lambda function** (also called an **anonymous function**) is a **small, single-expression function** that is defined without a name. \n",
    "\n",
    "**Syntax of Lambda Function:**\n",
    "```python\n",
    "lambda arguments: expression\n"
   ]
  },
  {
   "cell_type": "markdown",
   "id": "41252b61",
   "metadata": {},
   "source": [
    "Lambda functions in Python are powerful, concise tools for creating small, anonymous functions on the fly. They are perfect for simplifying short-term tasks, streamlining code with higher-order functions like map , filter , or sorted , and reducing clutter when defining temporary or throwaway logic\n",
    "\n",
    "A def statement creates a function and binds it to a variable, whereas a lambda expression creates a function without binding it to a variable. It's up to you what to do with that lambda function — bind it to a variable, call it, whatever.\n",
    "\n"
   ]
  },
  {
   "cell_type": "code",
   "execution_count": 67,
   "id": "a47980d3",
   "metadata": {},
   "outputs": [
    {
     "name": "stdout",
     "output_type": "stream",
     "text": [
      "Hello, how are you doing?\n"
     ]
    }
   ],
   "source": [
    "greet = lambda: print(\"Hello, how are you doing?\")\n",
    "\n",
    "greet()"
   ]
  },
  {
   "cell_type": "code",
   "execution_count": 68,
   "id": "851765b5",
   "metadata": {},
   "outputs": [
    {
     "name": "stdout",
     "output_type": "stream",
     "text": [
      "36\n"
     ]
    }
   ],
   "source": [
    "# Lambda function for squaring a number\n",
    "square = lambda x: x * x\n",
    "\n",
    "# Calling the lambda function\n",
    "print(square(6))  # Output: 36\n"
   ]
  },
  {
   "cell_type": "code",
   "execution_count": null,
   "id": "ddc86727",
   "metadata": {},
   "outputs": [],
   "source": []
  },
  {
   "cell_type": "markdown",
   "id": "838138a1",
   "metadata": {},
   "source": [
    "## **2️⃣ Data Structures: Lists**\n",
    "### **🔹 What is a List?**\n",
    "A **list** is a collection that is:\n",
    "- **Ordered** (Elements have a specific order)\n",
    "- **Mutable** (Can be changed after creation)\n",
    "- **Allows Duplicates** (Same values can appear multiple times)\n",
    "\n",
    "**List Syntax:**\n",
    "```python\n",
    "my_list = [item1, item2, item3]\n",
    "```"
   ]
  },
  {
   "cell_type": "code",
   "execution_count": null,
   "id": "1a39c7ac",
   "metadata": {},
   "outputs": [],
   "source": []
  },
  {
   "cell_type": "code",
   "execution_count": 69,
   "id": "29b57333",
   "metadata": {
    "scrolled": true
   },
   "outputs": [
    {
     "name": "stdout",
     "output_type": "stream",
     "text": [
      "Original List: ['Apple', 10, False, 'Banana', 'Cherry', 50.4, 'Mango']\n"
     ]
    }
   ],
   "source": [
    "# List Example\n",
    "fruits = [\"Apple\", 10, False, \"Banana\", \"Cherry\", 50.4, \"Mango\"]\n",
    "print(f\"Original List: {fruits}\")"
   ]
  },
  {
   "cell_type": "code",
   "execution_count": 73,
   "id": "3be85e6e",
   "metadata": {},
   "outputs": [
    {
     "data": {
      "text/plain": [
       "'Mango'"
      ]
     },
     "execution_count": 73,
     "metadata": {},
     "output_type": "execute_result"
    }
   ],
   "source": [
    "fruits[6]"
   ]
  },
  {
   "cell_type": "code",
   "execution_count": 72,
   "id": "1cd79412",
   "metadata": {},
   "outputs": [
    {
     "data": {
      "text/plain": [
       "'Mango'"
      ]
     },
     "execution_count": 72,
     "metadata": {},
     "output_type": "execute_result"
    }
   ],
   "source": [
    "fruits[-1]"
   ]
  },
  {
   "cell_type": "code",
   "execution_count": 70,
   "id": "87606dec",
   "metadata": {},
   "outputs": [
    {
     "name": "stdout",
     "output_type": "stream",
     "text": [
      "First Fruit: Apple\n",
      "Last Fruit: Mango\n"
     ]
    }
   ],
   "source": [
    "# Accessing elements\n",
    "print(f\"First Fruit: {fruits[0]}\")\n",
    "print(f\"Last Fruit: {fruits[-1]}\")"
   ]
  },
  {
   "cell_type": "code",
   "execution_count": 74,
   "id": "ed58c6f6",
   "metadata": {},
   "outputs": [
    {
     "data": {
      "text/plain": [
       "['Apple', 10, False, 'Banana', 'Cherry', 50.4, 'Mango']"
      ]
     },
     "execution_count": 74,
     "metadata": {},
     "output_type": "execute_result"
    }
   ],
   "source": [
    "fruits"
   ]
  },
  {
   "cell_type": "code",
   "execution_count": 75,
   "id": "74156f0f",
   "metadata": {},
   "outputs": [
    {
     "name": "stdout",
     "output_type": "stream",
     "text": [
      "Modified List: ['Apple', 'Blueberry', False, 'Banana', 'Cherry', 50.4, 'Mango']\n"
     ]
    }
   ],
   "source": [
    "# Modifying list elements\n",
    "fruits[1] = \"Blueberry\"\n",
    "print(f\"Modified List: {fruits}\")"
   ]
  },
  {
   "cell_type": "code",
   "execution_count": null,
   "id": "8aebbb70",
   "metadata": {},
   "outputs": [],
   "source": []
  },
  {
   "cell_type": "code",
   "execution_count": 76,
   "id": "54bdde0f",
   "metadata": {},
   "outputs": [
    {
     "name": "stdout",
     "output_type": "stream",
     "text": [
      "List After Append: ['Apple', 'Blueberry', False, 'Banana', 'Cherry', 50.4, 'Mango', 'Orange']\n"
     ]
    }
   ],
   "source": [
    "# Adding elements\n",
    "fruits.append(\"Orange\")\n",
    "print(f\"List After Append: {fruits}\")"
   ]
  },
  {
   "cell_type": "code",
   "execution_count": 77,
   "id": "f650b514",
   "metadata": {},
   "outputs": [
    {
     "name": "stdout",
     "output_type": "stream",
     "text": [
      "List After Insert: ['Apple', 'Blueberry', 'Watermelon', False, 'Banana', 'Cherry', 50.4, 'Mango', 'Orange']\n"
     ]
    }
   ],
   "source": [
    "# Insert \"watermelon\" as the third item\n",
    "fruits.insert(2, \"Watermelon\")\n",
    "print(f\"List After Insert: {fruits}\")"
   ]
  },
  {
   "cell_type": "code",
   "execution_count": 78,
   "id": "30176e61",
   "metadata": {},
   "outputs": [
    {
     "name": "stdout",
     "output_type": "stream",
     "text": [
      "List After extend: ['Apple', 'Blueberry', 'Watermelon', False, 'Banana', 'Cherry', 50.4, 'Mango', 'Orange', 'raspberry', 'pineapple', 'papaya']\n"
     ]
    }
   ],
   "source": [
    "# combining two lists\n",
    "tropical = [\"raspberry\", \"pineapple\", \"papaya\"]\n",
    "fruits.extend(tropical)\n",
    "print(f\"List After extend: {fruits}\")"
   ]
  },
  {
   "cell_type": "code",
   "execution_count": 79,
   "id": "2dd9f1d7",
   "metadata": {},
   "outputs": [
    {
     "name": "stdout",
     "output_type": "stream",
     "text": [
      "List After Removing Cherry: ['Apple', 'Blueberry', 'Watermelon', False, 'Banana', 50.4, 'Mango', 'Orange', 'raspberry', 'pineapple', 'papaya']\n"
     ]
    }
   ],
   "source": [
    "# Removing elements\n",
    "# If there are more than one item with the specified value, the remove() method removes the first occurrence:\n",
    "fruits.remove(\"Cherry\")\n",
    "print(f\"List After Removing Cherry: {fruits}\")"
   ]
  },
  {
   "cell_type": "code",
   "execution_count": 84,
   "id": "71917738",
   "metadata": {},
   "outputs": [
    {
     "data": {
      "text/plain": [
       "['Apple',\n",
       " 'Blueberry',\n",
       " False,\n",
       " 50.4,\n",
       " 'Mango',\n",
       " 'Orange',\n",
       " 'raspberry',\n",
       " 'pineapple',\n",
       " 'papaya',\n",
       " 'Watermelon']"
      ]
     },
     "execution_count": 84,
     "metadata": {},
     "output_type": "execute_result"
    }
   ],
   "source": [
    "fruits.append(\"Watermelon\")\n",
    "fruits"
   ]
  },
  {
   "cell_type": "code",
   "execution_count": 82,
   "id": "1124da9f",
   "metadata": {},
   "outputs": [
    {
     "data": {
      "text/plain": [
       "['Apple',\n",
       " 'Blueberry',\n",
       " False,\n",
       " 'Banana',\n",
       " 50.4,\n",
       " 'Mango',\n",
       " 'Orange',\n",
       " 'raspberry',\n",
       " 'pineapple',\n",
       " 'papaya']"
      ]
     },
     "execution_count": 82,
     "metadata": {},
     "output_type": "execute_result"
    }
   ],
   "source": [
    "fruits.remove(\"Watermelon\")\n",
    "fruits"
   ]
  },
  {
   "cell_type": "code",
   "execution_count": 86,
   "id": "0ee2dd04",
   "metadata": {},
   "outputs": [
    {
     "data": {
      "text/plain": [
       "['Apple',\n",
       " 'Blueberry',\n",
       " False,\n",
       " 'Mango',\n",
       " 'Orange',\n",
       " 'raspberry',\n",
       " 'pineapple',\n",
       " 'papaya',\n",
       " 'Watermelon']"
      ]
     },
     "execution_count": 86,
     "metadata": {},
     "output_type": "execute_result"
    }
   ],
   "source": [
    "fruits"
   ]
  },
  {
   "cell_type": "code",
   "execution_count": 87,
   "id": "def05f4a",
   "metadata": {
    "scrolled": true
   },
   "outputs": [
    {
     "name": "stdout",
     "output_type": "stream",
     "text": [
      "List After Removing The Specified Element: ['Apple', 'Blueberry', 'Mango', 'Orange', 'raspberry', 'pineapple', 'papaya', 'Watermelon']\n"
     ]
    }
   ],
   "source": [
    "# Remove Specified Index\n",
    "# we use the pop() method\n",
    "# If you do not specify the index, the pop() method removes the last item.\n",
    "fruits.pop(2)\n",
    "print(f\"List After Removing The Specified Element: {fruits}\")"
   ]
  },
  {
   "cell_type": "code",
   "execution_count": 88,
   "id": "f68a03f0",
   "metadata": {},
   "outputs": [
    {
     "data": {
      "text/plain": [
       "['Apple', 'Blueberry', 'Mango', 'Orange', 'raspberry', 'pineapple', 'papaya']"
      ]
     },
     "execution_count": 88,
     "metadata": {},
     "output_type": "execute_result"
    }
   ],
   "source": [
    "fruits.pop()\n",
    "fruits"
   ]
  },
  {
   "cell_type": "code",
   "execution_count": 89,
   "id": "474c0cf5",
   "metadata": {},
   "outputs": [
    {
     "name": "stdout",
     "output_type": "stream",
     "text": [
      "List After Removing The Specified Element: ['Blueberry', 'Mango', 'Orange', 'raspberry', 'pineapple', 'papaya']\n"
     ]
    }
   ],
   "source": [
    "# The del keyword also removes the specified index:\n",
    "del fruits[0]\n",
    "print(f\"List After Removing The Specified Element: {fruits}\")"
   ]
  },
  {
   "cell_type": "code",
   "execution_count": 95,
   "id": "8ce95fdd",
   "metadata": {},
   "outputs": [],
   "source": [
    "# The del keyword can also delete the list completely.\n",
    "list = [\"apple\", \"banana\", \"cherry\"]\n",
    "\n",
    "list\n",
    "del list"
   ]
  },
  {
   "cell_type": "code",
   "execution_count": 96,
   "id": "65f75d84",
   "metadata": {},
   "outputs": [
    {
     "data": {
      "text/plain": [
       "list"
      ]
     },
     "execution_count": 96,
     "metadata": {},
     "output_type": "execute_result"
    }
   ],
   "source": [
    "list"
   ]
  },
  {
   "cell_type": "code",
   "execution_count": 97,
   "id": "7ba25255",
   "metadata": {},
   "outputs": [
    {
     "name": "stdout",
     "output_type": "stream",
     "text": [
      "Cleared List: []\n"
     ]
    }
   ],
   "source": [
    "# Clear the List\n",
    "# The clear() method empties the list.\n",
    "# The list still remains, but it has no content.\n",
    "\n",
    "list = [\"apple\", \"banana\", \"cherry\"]\n",
    "list.clear()\n",
    "print(f\"Cleared List: {list}\")"
   ]
  },
  {
   "cell_type": "code",
   "execution_count": 99,
   "id": "e04ea583",
   "metadata": {},
   "outputs": [
    {
     "data": {
      "text/plain": [
       "['Blueberry', 'Mango', 'Orange', 'raspberry', 'pineapple', 'papaya']"
      ]
     },
     "execution_count": 99,
     "metadata": {},
     "output_type": "execute_result"
    }
   ],
   "source": [
    "fruits"
   ]
  },
  {
   "cell_type": "code",
   "execution_count": 98,
   "id": "9255bfe2",
   "metadata": {},
   "outputs": [
    {
     "name": "stdout",
     "output_type": "stream",
     "text": [
      "Copied List: ['Blueberry', 'Mango', 'Orange', 'raspberry', 'pineapple', 'papaya']\n"
     ]
    }
   ],
   "source": [
    "my_fruits = fruits.copy()\n",
    "print(f'Copied List: {my_fruits}')"
   ]
  },
  {
   "cell_type": "code",
   "execution_count": null,
   "id": "d97c51b9",
   "metadata": {},
   "outputs": [],
   "source": []
  },
  {
   "cell_type": "code",
   "execution_count": 102,
   "id": "e6ff7d49",
   "metadata": {
    "scrolled": true
   },
   "outputs": [
    {
     "name": "stdout",
     "output_type": "stream",
     "text": [
      "Copied List: ['Orange', 'raspberry', 'pineapple']\n"
     ]
    }
   ],
   "source": [
    "my_fruits1 = fruits[2:5]\n",
    "print(f'Copied List: {my_fruits1}')"
   ]
  },
  {
   "cell_type": "code",
   "execution_count": 103,
   "id": "86698c30",
   "metadata": {},
   "outputs": [
    {
     "name": "stdout",
     "output_type": "stream",
     "text": [
      "Sorted List: ['Blueberry', 'Mango', 'Orange', 'papaya', 'pineapple', 'raspberry']\n"
     ]
    }
   ],
   "source": [
    "# Sort List Alphanumerically\n",
    "fruits.sort()\n",
    "print(f\"Sorted List: {fruits}\")"
   ]
  },
  {
   "cell_type": "code",
   "execution_count": 104,
   "id": "c7532d0e",
   "metadata": {},
   "outputs": [
    {
     "name": "stdout",
     "output_type": "stream",
     "text": [
      "[23, 50, 65, 82, 100]\n"
     ]
    }
   ],
   "source": [
    "#Let's sort this list\n",
    "thislist = [100, 50, 65, 82, 23]\n",
    "thislist.sort()\n",
    "print(thislist)"
   ]
  },
  {
   "cell_type": "code",
   "execution_count": 106,
   "id": "26bf3e0d",
   "metadata": {},
   "outputs": [
    {
     "name": "stdout",
     "output_type": "stream",
     "text": [
      "[100, 82, 65, 50, 23]\n"
     ]
    }
   ],
   "source": [
    "# Let's sort this list\n",
    "thislist = [100, 50, 65, 82, 23]\n",
    "thislist.sort(reverse = True)\n",
    "print(thislist)"
   ]
  },
  {
   "cell_type": "code",
   "execution_count": 107,
   "id": "26052592",
   "metadata": {},
   "outputs": [
    {
     "name": "stdout",
     "output_type": "stream",
     "text": [
      "Sorted List: ['raspberry', 'pineapple', 'papaya', 'Orange', 'Mango', 'Blueberry']\n"
     ]
    }
   ],
   "source": [
    "# Sort Descending\n",
    "fruits.sort(reverse= True)\n",
    "print(f\"Sorted List: {fruits}\")"
   ]
  },
  {
   "cell_type": "markdown",
   "id": "8a297104",
   "metadata": {},
   "source": [
    "### **🔹 Iterating Over a List**\n",
    "Lists can be looped through using a `for` loop."
   ]
  },
  {
   "cell_type": "code",
   "execution_count": 108,
   "id": "2f44f147",
   "metadata": {},
   "outputs": [
    {
     "name": "stdout",
     "output_type": "stream",
     "text": [
      "I love raspberry!\n",
      "I love pineapple!\n",
      "I love papaya!\n",
      "I love Orange!\n",
      "I love Mango!\n",
      "I love Blueberry!\n"
     ]
    }
   ],
   "source": [
    "# Looping Through a List\n",
    "for fruit in fruits:\n",
    "    print(f\"I love {fruit}!\")"
   ]
  },
  {
   "cell_type": "markdown",
   "id": "2f44b683",
   "metadata": {},
   "source": [
    "### **🔹 Python - List Comprehension**"
   ]
  },
  {
   "cell_type": "markdown",
   "id": "83c946c6",
   "metadata": {},
   "source": [
    "List comprehension offers a shorter syntax when you want to create a new list based on the values of an existing list.\n",
    "\n",
    "Example:\n",
    "\n",
    "Based on a list of fruits, you want a new list, containing only the fruits with the letter \"a\" in the name.\n",
    "\n",
    "Without list comprehension you will have to write a for statement with a conditional test inside:"
   ]
  },
  {
   "cell_type": "code",
   "execution_count": 109,
   "id": "f4c175a5",
   "metadata": {},
   "outputs": [
    {
     "name": "stdout",
     "output_type": "stream",
     "text": [
      "['apple', 'banana', 'mango']\n"
     ]
    }
   ],
   "source": [
    "fruit_list = [\"apple\", \"banana\", \"cherry\", \"kiwi\", \"mango\"]\n",
    "newlist = []\n",
    "\n",
    "for x in fruit_list:\n",
    "    if \"a\" in x:\n",
    "        newlist.append(x)\n",
    "\n",
    "print(newlist)"
   ]
  },
  {
   "cell_type": "code",
   "execution_count": 110,
   "id": "e6c93eaf",
   "metadata": {},
   "outputs": [
    {
     "name": "stdout",
     "output_type": "stream",
     "text": [
      "['apple', 'banana', 'mango']\n"
     ]
    }
   ],
   "source": [
    "fruit_list = [\"apple\", \"banana\", \"cherry\", \"kiwi\", \"mango\"]\n",
    "\n",
    "newlist = [x for x in fruit_list if \"a\" in x]\n",
    "\n",
    "print(newlist)"
   ]
  },
  {
   "cell_type": "markdown",
   "id": "e9993df6",
   "metadata": {},
   "source": [
    "## **3️⃣ Data Structures: Tuples**\n",
    "### **🔹 What is a Tuple?**\n",
    "A **tuple** is similar to a list but **immutable** (cannot be changed after creation).\n",
    "\n",
    "**Tuple Syntax:**\n",
    "```python\n",
    "my_tuple = (item1, item2, item3)\n",
    "```"
   ]
  },
  {
   "cell_type": "code",
   "execution_count": 111,
   "id": "a2f59d38",
   "metadata": {},
   "outputs": [
    {
     "name": "stdout",
     "output_type": "stream",
     "text": [
      "Original Tuple: ('Red', 'Green', 'Blue')\n"
     ]
    }
   ],
   "source": [
    "# Tuple Example\n",
    "# To create a tuple with only one item, you have to add a comma after the item, \n",
    "# otherwise Python will not recognize it as a tuple.\n",
    "\n",
    "colors = (\"Red\", \"Green\", \"Blue\")\n",
    "print(f\"Original Tuple: {colors}\")"
   ]
  },
  {
   "cell_type": "code",
   "execution_count": 112,
   "id": "f0bba362",
   "metadata": {},
   "outputs": [
    {
     "name": "stdout",
     "output_type": "stream",
     "text": [
      "First Color: Red\n"
     ]
    }
   ],
   "source": [
    "# Accessing tuple elements\n",
    "print(f\"First Color: {colors[0]}\")"
   ]
  },
  {
   "cell_type": "code",
   "execution_count": 113,
   "id": "c81876b6",
   "metadata": {},
   "outputs": [
    {
     "name": "stdout",
     "output_type": "stream",
     "text": [
      "Last Color: Blue\n"
     ]
    }
   ],
   "source": [
    "# Accessing tuple elements\n",
    "print(f\"Last Color: {colors[-1]}\")"
   ]
  },
  {
   "cell_type": "code",
   "execution_count": 114,
   "id": "6546d2d2",
   "metadata": {},
   "outputs": [
    {
     "ename": "TypeError",
     "evalue": "'tuple' object does not support item assignment",
     "output_type": "error",
     "traceback": [
      "\u001b[1;31m---------------------------------------------------------------------------\u001b[0m",
      "\u001b[1;31mTypeError\u001b[0m                                 Traceback (most recent call last)",
      "Cell \u001b[1;32mIn[114], line 2\u001b[0m\n\u001b[0;32m      1\u001b[0m \u001b[38;5;66;03m# Tuples cannot be modified (uncommenting below will cause an error)\u001b[39;00m\n\u001b[1;32m----> 2\u001b[0m colors[\u001b[38;5;241m1\u001b[39m] \u001b[38;5;241m=\u001b[39m \u001b[38;5;124m\"\u001b[39m\u001b[38;5;124mYellow\u001b[39m\u001b[38;5;124m\"\u001b[39m\n",
      "\u001b[1;31mTypeError\u001b[0m: 'tuple' object does not support item assignment"
     ]
    }
   ],
   "source": [
    "\n",
    "# Tuples cannot be modified (uncommenting below will cause an error)\n",
    "colors[1] = \"Yellow\""
   ]
  },
  {
   "cell_type": "code",
   "execution_count": null,
   "id": "2fdea193",
   "metadata": {},
   "outputs": [],
   "source": []
  },
  {
   "cell_type": "markdown",
   "id": "1ca2ee79",
   "metadata": {},
   "source": [
    "## **4️⃣ Data Structures: Dictionaries**\n",
    "### **🔹 What is a Dictionary?**\n",
    "A **dictionary** is a collection of key-value pairs, where each key maps to a specific value.\n",
    "\n",
    "**Dictionary Syntax:**\n",
    "```python\n",
    "my_dict = {\"key1\": value1, \"key2\": value2}\n",
    "```"
   ]
  },
  {
   "cell_type": "code",
   "execution_count": null,
   "id": "359d0cbb",
   "metadata": {},
   "outputs": [],
   "source": []
  },
  {
   "cell_type": "code",
   "execution_count": null,
   "id": "e8b40596",
   "metadata": {},
   "outputs": [],
   "source": [
    "# thisdict = {\n",
    "#   \"brand\": \"Ford\",\n",
    "#   \"electric\": False,\n",
    "#   \"year\": 1964,\n",
    "#   \"colors\": [\"red\", \"white\", \"blue\"]\n",
    "# }"
   ]
  },
  {
   "cell_type": "code",
   "execution_count": 116,
   "id": "16c06d62",
   "metadata": {},
   "outputs": [
    {
     "name": "stdout",
     "output_type": "stream",
     "text": [
      "{'name': 'John', 'age': 36, 'grade': 'B'}\n"
     ]
    }
   ],
   "source": [
    "# Using the dict() method to make a dictionary:\n",
    "thisdict = dict(name = \"John\", age = 36, grade = \"B\")\n",
    "print(thisdict)"
   ]
  },
  {
   "cell_type": "code",
   "execution_count": 115,
   "id": "1bb45958",
   "metadata": {},
   "outputs": [
    {
     "data": {
      "text/plain": [
       "{'name': 'Alice', 'age': 20, 'grade': 'A'}"
      ]
     },
     "execution_count": 115,
     "metadata": {},
     "output_type": "execute_result"
    }
   ],
   "source": [
    "# Dictionary Example\n",
    "# Duplicate values will overwrite existing values: so duplicates are not allowed\n",
    "student = {\n",
    "    \"name\": \"Alice\",\n",
    "    \"age\": 20,\n",
    "    \"grade\": \"A\"\n",
    "}\n",
    "\n",
    "student\n"
   ]
  },
  {
   "cell_type": "code",
   "execution_count": 117,
   "id": "949b668e",
   "metadata": {},
   "outputs": [
    {
     "name": "stdout",
     "output_type": "stream",
     "text": [
      "Student Name: Alice\n",
      "Student Age: 20\n"
     ]
    }
   ],
   "source": [
    "# Accessing \n",
    "print(f\"Student Name: {student['name']}\")\n",
    "print(f\"Student Age: {student['age']}\")"
   ]
  },
  {
   "cell_type": "code",
   "execution_count": 119,
   "id": "8bec7635",
   "metadata": {},
   "outputs": [
    {
     "data": {
      "text/plain": [
       "20"
      ]
     },
     "execution_count": 119,
     "metadata": {},
     "output_type": "execute_result"
    }
   ],
   "source": [
    "# There is also a method called get() that will give you the same result:\n",
    "student.get(\"age\")"
   ]
  },
  {
   "cell_type": "code",
   "execution_count": 120,
   "id": "b3c80ad7",
   "metadata": {},
   "outputs": [
    {
     "data": {
      "text/plain": [
       "dict_keys(['name', 'age', 'grade'])"
      ]
     },
     "execution_count": 120,
     "metadata": {},
     "output_type": "execute_result"
    }
   ],
   "source": [
    "# The keys() method will return a list of all the keys in the dictionary.\n",
    "student.keys()"
   ]
  },
  {
   "cell_type": "code",
   "execution_count": 121,
   "id": "bb912e67",
   "metadata": {},
   "outputs": [
    {
     "data": {
      "text/plain": [
       "dict_values(['Alice', 20, 'A'])"
      ]
     },
     "execution_count": 121,
     "metadata": {},
     "output_type": "execute_result"
    }
   ],
   "source": [
    "# The values() method will return a list of all the values in the dictionary.\n",
    "student.values()"
   ]
  },
  {
   "cell_type": "code",
   "execution_count": 122,
   "id": "41df2679",
   "metadata": {},
   "outputs": [
    {
     "data": {
      "text/plain": [
       "dict_items([('name', 'Alice'), ('age', 20), ('grade', 'A')])"
      ]
     },
     "execution_count": 122,
     "metadata": {},
     "output_type": "execute_result"
    }
   ],
   "source": [
    "# The items() method will return each item in a dictionary, as tuples in a list.\n",
    "student.items()"
   ]
  },
  {
   "cell_type": "code",
   "execution_count": null,
   "id": "5258d38d",
   "metadata": {},
   "outputs": [],
   "source": []
  },
  {
   "cell_type": "code",
   "execution_count": 123,
   "id": "e1d6eea5",
   "metadata": {},
   "outputs": [
    {
     "name": "stdout",
     "output_type": "stream",
     "text": [
      "Updated Student Info: {'name': 'Alice', 'age': 21, 'grade': 'A'}\n"
     ]
    }
   ],
   "source": [
    "# Modifying dictionary values\n",
    "student[\"age\"] = 21\n",
    "print(f\"Updated Student Info: {student}\")"
   ]
  },
  {
   "cell_type": "code",
   "execution_count": 124,
   "id": "4ec1685d",
   "metadata": {},
   "outputs": [
    {
     "data": {
      "text/plain": [
       "{'name': 'Kim', 'age': 21, 'grade': 'A'}"
      ]
     },
     "execution_count": 124,
     "metadata": {},
     "output_type": "execute_result"
    }
   ],
   "source": [
    "\n",
    "# updating dict\n",
    "student.update({\"name\":\"Kim\"})\n",
    "student"
   ]
  },
  {
   "cell_type": "code",
   "execution_count": 125,
   "id": "3a9910b2",
   "metadata": {},
   "outputs": [
    {
     "name": "stdout",
     "output_type": "stream",
     "text": [
      "Student Info After Adding City: {'name': 'Kim', 'age': 21, 'grade': 'A', 'city': 'New York'}\n"
     ]
    }
   ],
   "source": [
    "# Adding new key-value pair\n",
    "student[\"city\"] = \"New York\"\n",
    "print(f\"Student Info After Adding City: {student}\")"
   ]
  },
  {
   "cell_type": "code",
   "execution_count": 126,
   "id": "0cb2b4e6",
   "metadata": {},
   "outputs": [
    {
     "data": {
      "text/plain": [
       "{'name': 'Kim',\n",
       " 'age': 21,\n",
       " 'grade': 'A',\n",
       " 'city': 'New York',\n",
       " 'class': '2nd Year'}"
      ]
     },
     "execution_count": 126,
     "metadata": {},
     "output_type": "execute_result"
    }
   ],
   "source": [
    "# The update() method will update the dictionary with the items from a given argument. \n",
    "# If the item does not exist, the item will be added.\n",
    "student.update({\"class\": \"2nd Year\"})\n",
    "student"
   ]
  },
  {
   "cell_type": "code",
   "execution_count": 127,
   "id": "7bb3b1db",
   "metadata": {},
   "outputs": [
    {
     "name": "stdout",
     "output_type": "stream",
     "text": [
      "{'name': 'Kim', 'age': 21, 'grade': 'A', 'city': 'New York'}\n"
     ]
    }
   ],
   "source": [
    "# Removing Items\n",
    "# The pop() method removes the item with the specified key name:\n",
    "student.pop(\"class\")\n",
    "print(student)  "
   ]
  },
  {
   "cell_type": "code",
   "execution_count": 128,
   "id": "0873ec22",
   "metadata": {},
   "outputs": [
    {
     "name": "stdout",
     "output_type": "stream",
     "text": [
      "{'name': 'Kim', 'age': 21, 'grade': 'A'}\n"
     ]
    }
   ],
   "source": [
    "# The popitem() method removes the last inserted item \n",
    "# (in versions before 3.7, a random item is removed instead):\n",
    "student.popitem()\n",
    "print(student)"
   ]
  },
  {
   "cell_type": "code",
   "execution_count": 129,
   "id": "2ed3e48a",
   "metadata": {},
   "outputs": [
    {
     "name": "stdout",
     "output_type": "stream",
     "text": [
      "{}\n"
     ]
    }
   ],
   "source": [
    "# The clear() method empties the dictionary:\n",
    "student.clear()\n",
    "print(student)"
   ]
  },
  {
   "cell_type": "code",
   "execution_count": 130,
   "id": "ef14b01f",
   "metadata": {},
   "outputs": [
    {
     "ename": "NameError",
     "evalue": "name 'student' is not defined",
     "output_type": "error",
     "traceback": [
      "\u001b[1;31m---------------------------------------------------------------------------\u001b[0m",
      "\u001b[1;31mNameError\u001b[0m                                 Traceback (most recent call last)",
      "Cell \u001b[1;32mIn[130], line 3\u001b[0m\n\u001b[0;32m      1\u001b[0m \u001b[38;5;66;03m# The del keyword can also delete the dictionary completely:\u001b[39;00m\n\u001b[0;32m      2\u001b[0m \u001b[38;5;28;01mdel\u001b[39;00m student\n\u001b[1;32m----> 3\u001b[0m \u001b[38;5;28mprint\u001b[39m(student)\n",
      "\u001b[1;31mNameError\u001b[0m: name 'student' is not defined"
     ]
    }
   ],
   "source": [
    "# The del keyword can also delete the dictionary completely:\n",
    "del student\n",
    "print(student) #this will cause an error because \"thisdict\" no longer exists."
   ]
  },
  {
   "cell_type": "code",
   "execution_count": null,
   "id": "3664841b",
   "metadata": {},
   "outputs": [],
   "source": [
    "# thisdict = {\n",
    "#   \"brand\": \"Ford\",\n",
    "#   \"model\": \"Mustang\",\n",
    "#   \"year\": 1964\n",
    "# }\n",
    "# if \"model\" in thisdict:\n",
    "#   print(\"Yes, 'model' is one of the keys in the thisdict dictionary\")"
   ]
  },
  {
   "cell_type": "code",
   "execution_count": null,
   "id": "c75bb638",
   "metadata": {},
   "outputs": [],
   "source": []
  },
  {
   "cell_type": "markdown",
   "id": "cc2e67a4",
   "metadata": {},
   "source": [
    "## **📝 Quiz: Functions and Data Structures**\n",
    "**1️⃣ What will be the output of the following function?**\n",
    "```python\n",
    "def square(num):\n",
    "    return num * num\n",
    "\n",
    "print(square(4))\n",
    "```\n",
    "\n",
    "**2️⃣ What will be printed by the following dictionary operation?**\n",
    "```python\n",
    "person = {'name': 'John', 'age': 30}\n",
    "print(person.get('city', 'Not Found'))\n",
    "```\n",
    "\n",
    "**3️⃣ What type of data structure is `fruits = ('Apple', 'Banana', 'Cherry')`?**\n",
    "\n",
    "(A) List  \n",
    "(B) Dictionary  \n",
    "(C) Tuple  \n"
   ]
  },
  {
   "cell_type": "code",
   "execution_count": 131,
   "id": "c01c0a87",
   "metadata": {},
   "outputs": [
    {
     "name": "stdout",
     "output_type": "stream",
     "text": [
      "Not Found\n"
     ]
    }
   ],
   "source": [
    "person = {'name': 'John', 'age': 30}\n",
    "print(person.get('city', 'Not Found'))"
   ]
  },
  {
   "cell_type": "markdown",
   "id": "668d3d43",
   "metadata": {},
   "source": [
    "## **📌 Summary of Session 3**\n",
    "✔ **Functions:** Defining and calling functions, return values.\n",
    "\n",
    "✔ **Lists:** Mutable collections, looping, adding/removing elements.\n",
    "\n",
    "✔ **Tuples:** Immutable collections.\n",
    "\n",
    "✔ **Dictionaries:** Key-value pairs, modifying, accessing data.\n",
    "\n",
    "🚀 **Next Up: NumPy, Pandas, and Matplotlib!**"
   ]
  },
  {
   "cell_type": "code",
   "execution_count": null,
   "id": "06b7c8b2",
   "metadata": {},
   "outputs": [],
   "source": []
  }
 ],
 "metadata": {
  "kernelspec": {
   "display_name": "Python 3 (ipykernel)",
   "language": "python",
   "name": "python3"
  },
  "language_info": {
   "codemirror_mode": {
    "name": "ipython",
    "version": 3
   },
   "file_extension": ".py",
   "mimetype": "text/x-python",
   "name": "python",
   "nbconvert_exporter": "python",
   "pygments_lexer": "ipython3",
   "version": "3.11.5"
  }
 },
 "nbformat": 4,
 "nbformat_minor": 5
}
