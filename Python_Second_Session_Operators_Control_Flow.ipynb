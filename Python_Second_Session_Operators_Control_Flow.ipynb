{
 "cells": [
  {
   "cell_type": "markdown",
   "id": "8e0c1d70",
   "metadata": {},
   "source": [
    "# **Session 2: Operators and Control Flow**\n",
    "\n",
    "#### By Vincent Ondima Kongo - African Institute for Mathematical Sciences (AIMS) Graduate.\n",
    "##### Bsc. Applied Statistics with IT from Maseno University \n",
    "##### Msc. Mathematical Sciences from AIMS in Collaboration with Stellenbosch University\n"
   ]
  },
  {
   "cell_type": "code",
   "execution_count": null,
   "id": "acc6e455",
   "metadata": {},
   "outputs": [],
   "source": []
  },
  {
   "cell_type": "markdown",
   "id": "0499f6f1",
   "metadata": {},
   "source": [
    "\n",
    "## **📌 Learning Objectives:**\n",
    "By the end of this session, you will:\n",
    "- Understand different types of **operators** in Python.\n",
    "- Learn how to use **conditional statements** (`if`, `elif`, `else`).\n",
    "- Explore **loops** (`for` and `while`).\n",
    "- Use **control flow statements** like `break`, `continue`, and `pass`.\n",
    "- Solve real-world problems using conditions and loops.\n",
    "\n",
    "🚀 **Let's dive in!**"
   ]
  },
  {
   "cell_type": "markdown",
   "id": "40a71b8d",
   "metadata": {},
   "source": [
    "## **1️⃣ Operators in Python**\n",
    "**Operators** are special symbols used to perform operations on variables and values.\n",
    "\n",
    "### **Types of Operators in Python:**\n",
    "| **Operator Type** | **Example Operators** | **Description** |\n",
    "|------------------|------------------|--------------|\n",
    "| Arithmetic | `+`, `-`, `*`, `/`, `//`, `%`, `**` | Mathematical operations |\n",
    "| Comparison | `==`, `!=`, `>`, `<`, `>=`, `<=` | Compares two values |\n",
    "| Logical | `and`, `or`, `not` | Combines conditional statements |\n",
    "| Assignment | `=`, `+=`, `-=`, `*=`, `/=` | Assign values to variables |\n",
    "| Identity | `is`, `is not` | Checks if two objects are the same in memory |\n",
    "| Membership | `in`, `not in` | Checks if a value exists in a sequence |"
   ]
  },
  {
   "cell_type": "markdown",
   "id": "00010fd6",
   "metadata": {},
   "source": [
    "### **🔹 Arithmetic Operators**\n",
    "Used for basic mathematical calculations."
   ]
  },
  {
   "cell_type": "code",
   "execution_count": 18,
   "id": "44d5622d",
   "metadata": {},
   "outputs": [],
   "source": [
    "# Let's create variables with integers\n",
    "a = 10\n",
    "b = 3"
   ]
  },
  {
   "cell_type": "code",
   "execution_count": null,
   "id": "ef07f353",
   "metadata": {},
   "outputs": [],
   "source": [
    "# print(\"Addition:\", a + b)  # 10 + 3 = 13\n",
    "# print(\"Subtraction:\", a - b)  # 10 - 3 = 7\n",
    "# print(\"Multiplication:\", a * b)  # 10 * 3 = 30\n",
    "# print(\"Division:\", a / b)  # 10 / 3 = 3.3333\n",
    "# print(\"Floor Division:\", a // b)  # 10 // 3 = 3 (removes decimal)\n",
    "# print(\"Modulus:\", a % b)  # 10 % 3 = 1 (remainder)\n",
    "# print(\"Exponentiation:\", a ** b)  # 10^3 = 1000"
   ]
  },
  {
   "cell_type": "code",
   "execution_count": 19,
   "id": "23d2eca8",
   "metadata": {},
   "outputs": [
    {
     "name": "stdout",
     "output_type": "stream",
     "text": [
      "Addition: 13\n"
     ]
    }
   ],
   "source": [
    "# Addition\n",
    "print(\"Addition:\", a + b)  # 10 + 3 = 13"
   ]
  },
  {
   "cell_type": "code",
   "execution_count": 20,
   "id": "868ccd32",
   "metadata": {},
   "outputs": [
    {
     "name": "stdout",
     "output_type": "stream",
     "text": [
      "Subtraction: 7\n"
     ]
    }
   ],
   "source": [
    "# Subtraction\n",
    "print(\"Subtraction:\", a - b)  # 10 - 3 = 7"
   ]
  },
  {
   "cell_type": "code",
   "execution_count": 21,
   "id": "9ccce11b",
   "metadata": {},
   "outputs": [
    {
     "name": "stdout",
     "output_type": "stream",
     "text": [
      "Multiplication: 30\n"
     ]
    }
   ],
   "source": [
    "# Multiplication\n",
    "print(\"Multiplication:\", a * b)  # 10 * 3 = 30"
   ]
  },
  {
   "cell_type": "code",
   "execution_count": 22,
   "id": "308e5519",
   "metadata": {},
   "outputs": [
    {
     "name": "stdout",
     "output_type": "stream",
     "text": [
      "Division: 3.3333333333333335\n"
     ]
    }
   ],
   "source": [
    "# Division\n",
    "print(\"Division:\", a / b)  # 10 / 3 = 3.3333"
   ]
  },
  {
   "cell_type": "code",
   "execution_count": 23,
   "id": "f4b91725",
   "metadata": {},
   "outputs": [
    {
     "name": "stdout",
     "output_type": "stream",
     "text": [
      "Floor Division: 3\n"
     ]
    }
   ],
   "source": [
    "# Floor Division\n",
    "print(\"Floor Division:\", a // b)  # 10 // 3 = 3 (removes decimal) "
   ]
  },
  {
   "cell_type": "code",
   "execution_count": 24,
   "id": "dd105793",
   "metadata": {},
   "outputs": [
    {
     "name": "stdout",
     "output_type": "stream",
     "text": [
      "Modulus: 1\n"
     ]
    }
   ],
   "source": [
    "# Modulus\n",
    "print(\"Modulus:\", a % b)  # 10 % 3 = 1 (remainder)"
   ]
  },
  {
   "cell_type": "code",
   "execution_count": 25,
   "id": "ba698038",
   "metadata": {},
   "outputs": [
    {
     "name": "stdout",
     "output_type": "stream",
     "text": [
      "Exponentiation: 1000\n"
     ]
    }
   ],
   "source": [
    "# Exponentiation\n",
    "print(\"Exponentiation:\", a ** b)  # 10^3 = 1000"
   ]
  },
  {
   "cell_type": "code",
   "execution_count": null,
   "id": "b9598d0b",
   "metadata": {},
   "outputs": [],
   "source": [
    "3.14\n",
    "3-4"
   ]
  },
  {
   "cell_type": "code",
   "execution_count": 26,
   "id": "ad8b6be4",
   "metadata": {},
   "outputs": [
    {
     "name": "stdout",
     "output_type": "stream",
     "text": [
      "Floor Division: 3\n",
      "Ceiling Division: 4\n"
     ]
    }
   ],
   "source": [
    "# Now let's try something else, I know someone will ask me, is there a ceiling division? haha, \n",
    "# not directly but yeah we can do it\n",
    "\n",
    "import math\n",
    "\n",
    "a = 10\n",
    "b = 3\n",
    "\n",
    "floor_div = a // b  # Floor division (rounds down)\n",
    "ceil_div = math.ceil(a / b)  # Ceiling division (rounds up)\n",
    "\n",
    "print(\"Floor Division:\", floor_div)  # 10 // 3 = 3\n",
    "print(\"Ceiling Division:\", ceil_div)  # Ceiling(10 / 3) = 4\n"
   ]
  },
  {
   "cell_type": "markdown",
   "id": "b098402e",
   "metadata": {},
   "source": [
    "### **🔹 Comparison Operators**\n",
    "Used to compare values and return a **Boolean (`True` or `False`)**."
   ]
  },
  {
   "cell_type": "code",
   "execution_count": 28,
   "id": "ec1cc177",
   "metadata": {},
   "outputs": [],
   "source": [
    "# Let's create variables with integers\n",
    "x = 5\n",
    "y = 10"
   ]
  },
  {
   "cell_type": "code",
   "execution_count": null,
   "id": "4dd48937",
   "metadata": {},
   "outputs": [],
   "source": [
    "# print(x == y)  # False (Equal to)\n",
    "# print(x != y)  # True (Not equal to)\n",
    "# print(x > y)   # False (Greater than)\n",
    "# print(x < y)   # True (Less than)\n",
    "# print(x >= y)  # False (Greater than or equal to)\n",
    "# print(x <= y)  # True (Less than or equal to)"
   ]
  },
  {
   "cell_type": "code",
   "execution_count": 29,
   "id": "a0a87c81",
   "metadata": {},
   "outputs": [
    {
     "name": "stdout",
     "output_type": "stream",
     "text": [
      "False\n"
     ]
    }
   ],
   "source": [
    "# Comparison Operators\n",
    "print(x == y)  # False (Equal to)"
   ]
  },
  {
   "cell_type": "code",
   "execution_count": 30,
   "id": "6ceaf51c",
   "metadata": {},
   "outputs": [
    {
     "name": "stdout",
     "output_type": "stream",
     "text": [
      "True\n"
     ]
    }
   ],
   "source": [
    "print(x != y)  # True (Not equal to)"
   ]
  },
  {
   "cell_type": "code",
   "execution_count": 31,
   "id": "ebe152d0",
   "metadata": {},
   "outputs": [
    {
     "name": "stdout",
     "output_type": "stream",
     "text": [
      "False\n"
     ]
    }
   ],
   "source": [
    "print(x > y)   # False (Greater than)"
   ]
  },
  {
   "cell_type": "code",
   "execution_count": 32,
   "id": "cbe64ca2",
   "metadata": {},
   "outputs": [
    {
     "name": "stdout",
     "output_type": "stream",
     "text": [
      "True\n"
     ]
    }
   ],
   "source": [
    "print(x < y)   # True (Less than)"
   ]
  },
  {
   "cell_type": "code",
   "execution_count": 33,
   "id": "0c1cf0fe",
   "metadata": {},
   "outputs": [
    {
     "name": "stdout",
     "output_type": "stream",
     "text": [
      "False\n"
     ]
    }
   ],
   "source": [
    "print(x >= y)  # False (Greater than or equal to)"
   ]
  },
  {
   "cell_type": "code",
   "execution_count": 34,
   "id": "500f8dad",
   "metadata": {},
   "outputs": [
    {
     "name": "stdout",
     "output_type": "stream",
     "text": [
      "True\n"
     ]
    }
   ],
   "source": [
    "print(x <= y)  # True (Less than or equal to)"
   ]
  },
  {
   "cell_type": "markdown",
   "id": "76607efc",
   "metadata": {},
   "source": [
    "### **🔹 Logical Operators**\n",
    "Used to combine multiple conditions."
   ]
  },
  {
   "cell_type": "code",
   "execution_count": 35,
   "id": "30b7035e",
   "metadata": {},
   "outputs": [],
   "source": [
    "# Logical Operators\n",
    "x = True\n",
    "y = False"
   ]
  },
  {
   "cell_type": "code",
   "execution_count": null,
   "id": "df48d73c",
   "metadata": {},
   "outputs": [],
   "source": [
    "# print(x and y)  # False (Both must be True)\n",
    "# print(x or y)   # True (At least one is True)\n",
    "# print(not x)    # False (Reverses the value of x)"
   ]
  },
  {
   "cell_type": "code",
   "execution_count": 36,
   "id": "4a10b77a",
   "metadata": {},
   "outputs": [
    {
     "name": "stdout",
     "output_type": "stream",
     "text": [
      "False\n"
     ]
    }
   ],
   "source": [
    "print(x and y)  # False (Both must be True)"
   ]
  },
  {
   "cell_type": "code",
   "execution_count": 37,
   "id": "892ecc6d",
   "metadata": {},
   "outputs": [
    {
     "name": "stdout",
     "output_type": "stream",
     "text": [
      "True\n"
     ]
    }
   ],
   "source": [
    "print(x or y)   # True (At least one is True)"
   ]
  },
  {
   "cell_type": "code",
   "execution_count": 38,
   "id": "5afb4520",
   "metadata": {},
   "outputs": [
    {
     "name": "stdout",
     "output_type": "stream",
     "text": [
      "False\n"
     ]
    }
   ],
   "source": [
    "print(not x)    # False (Reverses the value of x)"
   ]
  },
  {
   "cell_type": "code",
   "execution_count": 39,
   "id": "fb90dca0",
   "metadata": {},
   "outputs": [
    {
     "data": {
      "text/plain": [
       "True"
      ]
     },
     "execution_count": 39,
     "metadata": {},
     "output_type": "execute_result"
    }
   ],
   "source": [
    "not y"
   ]
  },
  {
   "cell_type": "markdown",
   "id": "a770d3b3",
   "metadata": {},
   "source": [
    "### I have put these examples below for your exploration, please check them, you'll be able to understand more about this concept. Thanks!"
   ]
  },
  {
   "cell_type": "markdown",
   "id": "0cdd3758",
   "metadata": {},
   "source": [
    "## **🔹 Bitwise Operators (Used for Binary Operations)**\n",
    "Bitwise operators work on the **binary representations** of numbers.\n",
    "\n",
    "| **Operator** | **Symbol** | **Description** | **Example (x = 5, y = 3)** |\n",
    "|-------------|----------|---------------|------------------|\n",
    "| **AND** | `&` | Returns 1 if both bits are 1 | `5 & 3` → `1` (`0101 & 0011` → `0001`) |\n",
    "| **OR** | `\\|` | Returns 1 if at least one bit is 1 | `5 \\| 3` → `7` (`0101 \\| 0011` → `0111`) |\n",
    "| **XOR (Exclusive OR)** | `^` | Returns 1 if only one of the bits is 1 | `5 ^ 3` → `6` (`0101 ^ 0011` → `0110`) |\n",
    "| **NOT (Bitwise Complement)** | `~` | Inverts the bits (1s become 0s and vice versa) | `~5` → `-6` (In two’s complement form) |\n",
    "\n"
   ]
  },
  {
   "cell_type": "code",
   "execution_count": null,
   "id": "df516823",
   "metadata": {},
   "outputs": [],
   "source": [
    "x = True\n",
    "y = False\n",
    "\n",
    "# XOR operation (Can be done using bitwise ^ or logical comparison)\n",
    "print(x ^ y)  # True (One is True, one is False)\n",
    "print(x ^ x)  # False (Both are the same)\n",
    "print(y ^ y)  # False"
   ]
  },
  {
   "cell_type": "code",
   "execution_count": null,
   "id": "a34095cc",
   "metadata": {},
   "outputs": [],
   "source": [
    "a = 5  # 0101 in binary\n",
    "b = 3  # 0011 in binary\n",
    "\n",
    "print(a ^ b)  # Outputs: 6 (Binary: 0110)"
   ]
  },
  {
   "cell_type": "code",
   "execution_count": null,
   "id": "9f65f44b",
   "metadata": {},
   "outputs": [],
   "source": [
    "x = 5  # 0101 in binary\n",
    "y = 3  # 0011 in binary\n",
    "\n",
    "result = x | y  # Bitwise OR\n",
    "print(result)  # Output: 7\n"
   ]
  },
  {
   "cell_type": "code",
   "execution_count": 40,
   "id": "e0dc168f",
   "metadata": {},
   "outputs": [
    {
     "name": "stdout",
     "output_type": "stream",
     "text": [
      "1\n"
     ]
    }
   ],
   "source": [
    "x = 5  # 0101 in binary\n",
    "y = 3  # 0011 in binary\n",
    "\n",
    "result = x & y  # Bitwise AND\n",
    "print(result)  "
   ]
  },
  {
   "cell_type": "code",
   "execution_count": null,
   "id": "d44ed1d3",
   "metadata": {},
   "outputs": [],
   "source": [
    "x = True\n",
    "y = False\n",
    "\n",
    "nor_result = not (x or y)  # Equivalent to NOR\n",
    "print(nor_result)  # False (Since \"x or y\" is True, \"not True\" gives False)"
   ]
  },
  {
   "cell_type": "code",
   "execution_count": null,
   "id": "56bc1672",
   "metadata": {},
   "outputs": [],
   "source": [
    "x = True\n",
    "y = False\n",
    "\n",
    "nand_result = not (x and y)  # Equivalent to NAND\n",
    "print(nand_result)  # True (Since \"x and y\" is False, \"not False\" gives True)\n"
   ]
  },
  {
   "cell_type": "code",
   "execution_count": null,
   "id": "b2f32727",
   "metadata": {},
   "outputs": [],
   "source": [
    "a = 5  # 0101 in binary\n",
    "b = 3  # 0011 in binary\n",
    "\n",
    "xnor_result = ~(a ^ b)  # Equivalent to XNOR using bitwise\n",
    "print(xnor_result)  # Output will be negative due to bitwise NOT\n"
   ]
  },
  {
   "cell_type": "code",
   "execution_count": null,
   "id": "076a6b6f",
   "metadata": {},
   "outputs": [],
   "source": [
    "a = 5  # 0101 in binary\n",
    "b = 3  # 0011 in binary\n",
    "\n",
    "xnor_result = ~(a ^ b)  # Equivalent to XNOR using bitwise\n",
    "print(xnor_result)  # Output will be negative due to bitwise NOT"
   ]
  },
  {
   "cell_type": "markdown",
   "id": "a25d25b9",
   "metadata": {},
   "source": [
    "### This is the end of the exploration materials!! In case you don't understand something, please reach out. Thanks!!"
   ]
  },
  {
   "cell_type": "code",
   "execution_count": null,
   "id": "3e284b30",
   "metadata": {},
   "outputs": [],
   "source": []
  },
  {
   "cell_type": "markdown",
   "id": "d3e87733",
   "metadata": {},
   "source": [
    "## **📝 Quiz 1: What Will Be the Output?**\n",
    "Predict the output before running the code."
   ]
  },
  {
   "cell_type": "code",
   "execution_count": 41,
   "id": "e5fa6353",
   "metadata": {},
   "outputs": [
    {
     "name": "stdout",
     "output_type": "stream",
     "text": [
      "True\n"
     ]
    }
   ],
   "source": [
    "a = 7\n",
    "b = 2\n",
    "\n",
    "print(a % b == 1 and a > b)"
   ]
  },
  {
   "cell_type": "code",
   "execution_count": null,
   "id": "18f32192",
   "metadata": {},
   "outputs": [],
   "source": []
  },
  {
   "cell_type": "markdown",
   "id": "12780058",
   "metadata": {},
   "source": [
    "## **2️⃣ Conditional Statements (`if`, `elif`, `else`)**\n",
    "Conditional statements help **control the flow of a program** by executing different blocks of code depending on conditions.\n",
    "\n",
    "### **Syntax of `if` statement:**\n",
    "```python\n",
    "if condition:\n",
    "    # Code to execute if condition is True\n",
    "```"
   ]
  },
  {
   "cell_type": "code",
   "execution_count": null,
   "id": "b8ad642a",
   "metadata": {},
   "outputs": [],
   "source": []
  },
  {
   "cell_type": "code",
   "execution_count": 43,
   "id": "8635f267",
   "metadata": {},
   "outputs": [
    {
     "name": "stdout",
     "output_type": "stream",
     "text": [
      "Enter your age: 21\n",
      "You are an adult!\n"
     ]
    }
   ],
   "source": [
    "# Example: Conditional Statements\n",
    "age = int(input(\"Enter your age: \"))\n",
    "\n",
    "if age >= 18:\n",
    "    print(\"You are an adult!\")\n",
    "else:\n",
    "    print(\"You are a minor!\")"
   ]
  },
  {
   "cell_type": "code",
   "execution_count": 45,
   "id": "f2647b03",
   "metadata": {},
   "outputs": [
    {
     "name": "stdout",
     "output_type": "stream",
     "text": [
      "Enter the day of the week: Saturday\n",
      "I must learn python!!\n"
     ]
    }
   ],
   "source": [
    "day = input(\"Enter the day of the week: \")\n",
    "\n",
    "if day == \"Saturday\":\n",
    "    print(\"I must learn python!!\")\n",
    "else:\n",
    "    print(\"I'll do something else!\")"
   ]
  },
  {
   "cell_type": "markdown",
   "id": "4467362c",
   "metadata": {},
   "source": [
    "### **Using `if`, `elif`, and `else` Together**\n",
    "If you have multiple conditions, use `elif` (else if)."
   ]
  },
  {
   "cell_type": "code",
   "execution_count": null,
   "id": "faa669ab",
   "metadata": {},
   "outputs": [],
   "source": [
    "# Using if, elif, and else\n",
    "score = int(input(\"Enter your score: \"))\n",
    "\n",
    "if score >= 90:\n",
    "    print(\"Grade: A\")\n",
    "elif score >= 75:\n",
    "    print(\"Grade: B\")\n",
    "elif score >= 60:\n",
    "    print(\"Grade: C\")\n",
    "else:\n",
    "    print(\"Grade: F\")"
   ]
  },
  {
   "cell_type": "markdown",
   "id": "3e4c901b",
   "metadata": {},
   "source": [
    "Let's try something interesting"
   ]
  },
  {
   "cell_type": "code",
   "execution_count": null,
   "id": "1f2f0420",
   "metadata": {},
   "outputs": [],
   "source": [
    "# Age Group Classifier using if-elif-else\n",
    "\n",
    "# Taking user input\n",
    "age = input(\"Enter your age: \")\n",
    "\n",
    "# Checking if input is a valid number\n",
    "if age.isdigit():  # Ensures input is numeric\n",
    "    age = int(age)  # Convert input to integer\n",
    "\n",
    "    # Conditional classification\n",
    "    if age < 0:\n",
    "        print(\"Invalid age! Age cannot be negative.\")\n",
    "    elif age <= 12:\n",
    "        print(\"You are a Child. Enjoy your childhood! 😊\")\n",
    "    elif age <= 19:\n",
    "        print(\"You are a Teenager. Keep exploring and learning! 🚀\")\n",
    "    elif age <= 35:\n",
    "        print(\"You are a Young Adult. Chase your dreams! 💪\")\n",
    "    elif age <= 60:\n",
    "        print(\"You are an Adult. Work hard, but take care of yourself too! 👨‍👩‍👧‍👦\")\n",
    "    elif age <= 100:\n",
    "        print(\"You are a Senior Citizen. Enjoy your golden years! 🌟\")\n",
    "    else:\n",
    "        print(\"Wow! You've lived over a century! 🎉\")\n",
    "else:\n",
    "    print(\"Invalid input! Please enter a valid number.\")\n"
   ]
  },
  {
   "cell_type": "markdown",
   "id": "106ea146",
   "metadata": {},
   "source": [
    "## Nested `if`"
   ]
  },
  {
   "cell_type": "markdown",
   "id": "77461583",
   "metadata": {},
   "source": [
    "A nested `if` statement is when an `if` condition is placed inside another `if` condition.\n",
    "\n",
    "This is useful when multiple levels of conditions must be checked."
   ]
  },
  {
   "cell_type": "code",
   "execution_count": null,
   "id": "46eba5d8",
   "metadata": {},
   "outputs": [],
   "source": [
    "# Nested if Example: Check if a number is positive and even\n",
    "\n",
    "# Take user input\n",
    "num = int(input(\"Enter a number: \"))\n",
    "\n",
    "# First condition: Check if the number is positive\n",
    "if num > 0:\n",
    "    print(\"The number is positive.\")\n",
    "    \n",
    "    # Nested condition: Check if the number is even or odd\n",
    "    if num % 2 == 0:\n",
    "        print(\"It is also an even number. ✅\")\n",
    "    else:\n",
    "        print(\"It is an odd number. 🔢\")\n",
    "else:\n",
    "    print(\"The number is not positive. ❌\")\n"
   ]
  },
  {
   "cell_type": "markdown",
   "id": "a9549f5a",
   "metadata": {},
   "source": [
    "Let's try something interesting"
   ]
  },
  {
   "cell_type": "code",
   "execution_count": null,
   "id": "8db1a37c",
   "metadata": {},
   "outputs": [],
   "source": [
    "# University Admission Eligibility Checker\n",
    "\n",
    "# Step 1: Ask if the student has graduated\n",
    "graduated = input(\"Have you graduated from high school? (yes/no): \").strip().lower()\n",
    "\n",
    "# Step 2: Check if they are eligible for the next step\n",
    "if graduated == \"yes\":\n",
    "    # Step 3: Ask for their exam score\n",
    "    score = input(\"Enter your exam score (0-100): \")\n",
    "\n",
    "    # Step 4: Validate score input\n",
    "    if score.isdigit():  # Ensure input is a number\n",
    "        score = int(score)\n",
    "\n",
    "        # Step 5: Check exam score for admission eligibility\n",
    "        if score >= 85:\n",
    "            print(\"Congratulations! 🎉 You are eligible for admission with a Full Scholarship! 🏆\")\n",
    "        elif score >= 70:\n",
    "            print(\"Congratulations! 🎉 You are eligible for admission with a Partial Scholarship! 🏆\")\n",
    "        elif score >= 50:\n",
    "            print(\"Great job! You are eligible for admission. 🎓\")\n",
    "        else:\n",
    "            print(\"Unfortunately, your score is too low for admission. Try again next year! 📖\")\n",
    "    else:\n",
    "        print(\"Invalid input! Please enter a valid exam score.\")\n",
    "else:\n",
    "    print(\"You must graduate from high school before applying for university! 🎓\")\n"
   ]
  },
  {
   "cell_type": "code",
   "execution_count": null,
   "id": "cc32d268",
   "metadata": {},
   "outputs": [],
   "source": []
  },
  {
   "cell_type": "markdown",
   "id": "58e0afd8",
   "metadata": {},
   "source": [
    "Something interestng again, though I wanted this to be your quiz, but let's do it together!!"
   ]
  },
  {
   "cell_type": "markdown",
   "id": "9888a6fa",
   "metadata": {},
   "source": [
    "Python Program to Check if a Year is a Leap Year\n",
    "\n",
    "A leap year is: ✔ Divisible by 4,\n",
    "\n",
    "✔ Not divisible by 100, unless also divisible by 400."
   ]
  },
  {
   "cell_type": "code",
   "execution_count": null,
   "id": "2c2e2c2e",
   "metadata": {},
   "outputs": [],
   "source": []
  },
  {
   "cell_type": "code",
   "execution_count": null,
   "id": "8f12e537",
   "metadata": {},
   "outputs": [],
   "source": [
    "# Leap Year Checker\n",
    "\n",
    "# Get user input\n",
    "year = int(input(\"Enter a year: \"))\n",
    "\n",
    "# Check for leap year conditions\n",
    "if (year % 4 == 0 and year % 100 != 0) or (year % 400 == 0):\n",
    "    print(f\"{year} is a Leap Year! ✅\")\n",
    "else:\n",
    "    print(f\"{year} is NOT a Leap Year ❌\")\n"
   ]
  },
  {
   "cell_type": "code",
   "execution_count": null,
   "id": "ed75dbc6",
   "metadata": {},
   "outputs": [],
   "source": []
  },
  {
   "cell_type": "markdown",
   "id": "62754ff3",
   "metadata": {},
   "source": [
    "## **3️⃣ Loops in Python (`for` and `while`)**\n",
    "Loops allow you to **repeat** a block of code multiple times. They are useful when you need to perform the same operation multiple times **without writing duplicate code**.\n",
    "\n",
    "### **🔹 `for` Loop (Iterates Over a Sequence)**\n",
    "A `for` loop is used when **you know the number of iterations** in advance. It iterates over a sequence such as a list, tuple, string, or range.\n",
    "\n",
    "**Syntax:**\n",
    "```python\n",
    "for variable in sequence:\n",
    "    # Code block\n",
    "```"
   ]
  },
  {
   "cell_type": "code",
   "execution_count": 4,
   "id": "d1ee9142",
   "metadata": {},
   "outputs": [],
   "source": [
    "# Example: Iterating over a list using a for loop\n",
    "fruits = [\"Apple\", \"Banana\", \"Cherry\"]\n",
    "for fruit in fruits:\n",
    "    print(fruit)"
   ]
  },
  {
   "cell_type": "code",
   "execution_count": null,
   "id": "bc9befdd",
   "metadata": {},
   "outputs": [],
   "source": []
  },
  {
   "cell_type": "markdown",
   "id": "6291442c",
   "metadata": {},
   "source": [
    "### **🔹 Using `range()` in `for` Loops**\n",
    "`range(start, stop, step)` generates a sequence of numbers, which can be used in loops.\n",
    "\n",
    "**Common `range()` Usages:**\n",
    "- `range(n)`: Generates numbers from `0` to `n-1`.\n",
    "- `range(start, stop)`: Generates numbers from `start` to `stop-1`.\n",
    "- `range(start, stop, step)`: Generates numbers from `start` to `stop-1`, incrementing by `step`.\n",
    "\n",
    "**Example:**"
   ]
  },
  {
   "cell_type": "code",
   "execution_count": null,
   "id": "b80c8139",
   "metadata": {},
   "outputs": [],
   "source": [
    "# Using range() with for loop\n",
    "for i in range(5):  # 0 to 4\n",
    "    print(i)"
   ]
  },
  {
   "cell_type": "code",
   "execution_count": null,
   "id": "2cde9b31",
   "metadata": {},
   "outputs": [],
   "source": [
    "# Print numbers from 1 to 5\n",
    "for i in range(1, 6):\n",
    "    print(f\"Number: {i}\")\n"
   ]
  },
  {
   "cell_type": "code",
   "execution_count": null,
   "id": "dfd07036",
   "metadata": {},
   "outputs": [],
   "source": [
    "# Using range() with start and stop\n",
    "for i in range(2, 7):  # 2 to 6\n",
    "    print(i)"
   ]
  },
  {
   "cell_type": "code",
   "execution_count": null,
   "id": "50494122",
   "metadata": {},
   "outputs": [],
   "source": [
    "# Using range() with step\n",
    "for i in range(1, 10, 2):  # Odd numbers from 1 to 9\n",
    "    print(i)"
   ]
  },
  {
   "cell_type": "code",
   "execution_count": null,
   "id": "40d8d941",
   "metadata": {},
   "outputs": [],
   "source": []
  },
  {
   "cell_type": "code",
   "execution_count": null,
   "id": "5522dfee",
   "metadata": {},
   "outputs": [],
   "source": [
    "# Using a for loop to calculate the sum of numbers from 1 to N\n",
    "\n",
    "# Get user input\n",
    "N = int(input(\"Enter a number (N): \"))\n",
    "\n",
    "# Initialize sum variable\n",
    "total_sum = 0\n",
    "\n",
    "# Loop from 1 to N (inclusive)\n",
    "for num in range(1, N + 1):\n",
    "    total_sum += num  # Add each number to total_sum\n",
    "\n",
    "# Print the result\n",
    "print(f\"The sum of numbers from 1 to {N} is: {total_sum}\")\n"
   ]
  },
  {
   "cell_type": "code",
   "execution_count": null,
   "id": "667fdd88",
   "metadata": {},
   "outputs": [],
   "source": [
    "# Simple Multiplication Table Generator\n",
    "\n",
    "# Get user input\n",
    "num = int(input(\"Enter a number to generate its multiplication table: \"))\n",
    "\n",
    "# Loop to generate and print the multiplication table\n",
    "for i in range(1, 11):  # From 1 to 10\n",
    "    print(f\"{num} × {i} = {num * i}\")\n"
   ]
  },
  {
   "cell_type": "code",
   "execution_count": null,
   "id": "6217613d",
   "metadata": {},
   "outputs": [],
   "source": [
    "# Factorial Calculation using a for loop\n",
    "# 5! = 5 × 4 × 3 × 2 × 1 = 120\n",
    "\n",
    "# Get user input\n",
    "num = int(input(\"Enter a number to calculate its factorial: \"))\n",
    "\n",
    "# Initialize factorial result\n",
    "factorial = 1\n",
    "\n",
    "# Loop through numbers from 1 to num\n",
    "for i in range(1, num + 1):\n",
    "    factorial *= i  # Multiply current number\n",
    "\n",
    "# Print result\n",
    "print(f\"The factorial of {num} is: {factorial}\")\n"
   ]
  },
  {
   "cell_type": "code",
   "execution_count": null,
   "id": "ae07ea6e",
   "metadata": {},
   "outputs": [],
   "source": []
  },
  {
   "cell_type": "markdown",
   "id": "c3963c2c",
   "metadata": {},
   "source": [
    "### An example of the famous Fibonacci Sequence"
   ]
  },
  {
   "cell_type": "markdown",
   "id": "63b7a185",
   "metadata": {},
   "source": [
    "0, 1, 1, 2, 3, 5, 8, 13, 21, ..."
   ]
  },
  {
   "cell_type": "code",
   "execution_count": null,
   "id": "6f512a9b",
   "metadata": {},
   "outputs": [],
   "source": [
    "# # Repeat a task 5 times (without using the loop variable)\n",
    "# for _ in range(5):\n",
    "#     print(\"Hello!\")  "
   ]
  },
  {
   "cell_type": "code",
   "execution_count": null,
   "id": "24af0b84",
   "metadata": {},
   "outputs": [],
   "source": []
  },
  {
   "cell_type": "code",
   "execution_count": null,
   "id": "39f12b08",
   "metadata": {},
   "outputs": [],
   "source": [
    "# Sum of the First N Fibonacci Numbers (Simplified)\n",
    "\n",
    "N = int(input(\"Enter the number of Fibonacci terms: \"))\n",
    "\n",
    "# List to store Fibonacci sequence\n",
    "fib_list = [0, 1]\n",
    "\n",
    "# Generate Fibonacci sequence up to N terms\n",
    "for _ in range(2, N):\n",
    "    fib_list.append(fib_list[-1] + fib_list[-2])  # Add the last two numbers\n",
    "\n",
    "# Calculate sum\n",
    "fib_sum = sum(fib_list[:N])  # Only sum up to N terms\n",
    "\n",
    "print(f\"The sum of the first {N} Fibonacci numbers is: {fib_sum}\")\n"
   ]
  },
  {
   "cell_type": "code",
   "execution_count": null,
   "id": "01524a95",
   "metadata": {},
   "outputs": [],
   "source": [
    "# Find the Next Fibonacci Number (Simple Recursive Approach)\n",
    "\n",
    "def fibonacci(n):\n",
    "    \"\"\"Returns the nth Fibonacci number\"\"\"\n",
    "    if n <= 0:\n",
    "        return 0\n",
    "    elif n == 1:\n",
    "        return 1\n",
    "    else:\n",
    "        return fibonacci(n-1) + fibonacci(n-2)  # Recursive call\n",
    "\n",
    "# Get user input\n",
    "N = int(input(\"Enter a Fibonacci term number: \"))\n",
    "\n",
    "# Find Nth Fibonacci number and next one\n",
    "Nth_fib = fibonacci(N)\n",
    "next_fib = fibonacci(N + 1)\n",
    "\n",
    "print(f\"The {N}th Fibonacci number is: {Nth_fib}\")\n",
    "print(f\"The next Fibonacci number after the {N}th term is: {next_fib}\")\n"
   ]
  },
  {
   "cell_type": "code",
   "execution_count": null,
   "id": "560ecd19",
   "metadata": {},
   "outputs": [],
   "source": [
    "# Print the First N Fibonacci Terms with Their Positions\n",
    "\n",
    "N = int(input(\"Enter the number of Fibonacci terms: \"))\n",
    "\n",
    "# First two terms\n",
    "a, b = 0, 1\n",
    "\n",
    "print(f\"Position 1: {a}\")  # First term\n",
    "if N > 1:\n",
    "    print(f\"Position 2: {b}\")  # Second term\n",
    "\n",
    "# Print Fibonacci numbers along with positions\n",
    "for pos in range(3, N + 1):\n",
    "    next_fib = a + b  # Calculate next Fibonacci number\n",
    "    print(f\"Position {pos}: {next_fib}\")  # Print position and Fibonacci number\n",
    "    a, b = b, next_fib  # Update terms\n"
   ]
  },
  {
   "cell_type": "markdown",
   "id": "f5e49365",
   "metadata": {},
   "source": [
    "OR"
   ]
  },
  {
   "cell_type": "code",
   "execution_count": null,
   "id": "e89efa45",
   "metadata": {},
   "outputs": [],
   "source": [
    "# Print the First N Fibonacci Numbers (Simple Approach)\n",
    "\n",
    "N = int(input(\"Enter the number of Fibonacci terms: \"))\n",
    "\n",
    "# First two terms\n",
    "a, b = 0, 1\n",
    "\n",
    "# Print first two terms if N >= 1\n",
    "if N >= 1:\n",
    "    print(a)  # First Fibonacci number\n",
    "if N >= 2:\n",
    "    print(b)  # Second Fibonacci number\n",
    "\n",
    "# Loop to print the remaining Fibonacci numbers\n",
    "for _ in range(3, N + 1):\n",
    "    next_fib = a + b  # Calculate next Fibonacci number\n",
    "    print(next_fib)  # Print the Fibonacci number\n",
    "    a, b = b, next_fib  # Update terms\n"
   ]
  },
  {
   "cell_type": "markdown",
   "id": "cac92f86",
   "metadata": {},
   "source": [
    "### **🔹 `while` Loop (Repeats Until Condition is False)**"
   ]
  },
  {
   "cell_type": "code",
   "execution_count": null,
   "id": "9d8f120e",
   "metadata": {},
   "outputs": [],
   "source": [
    "# While loop example\n",
    "count = 1\n",
    "while count <= 5:\n",
    "    print(\"Count:\", count)\n",
    "    count += 1"
   ]
  },
  {
   "cell_type": "code",
   "execution_count": null,
   "id": "b6dbb406",
   "metadata": {},
   "outputs": [],
   "source": [
    "# Multiplication Table using a while loop\n",
    "\n",
    "# Get user input\n",
    "num = int(input(\"Enter a number to generate its multiplication table: \"))\n",
    "\n",
    "# Initialize counter\n",
    "i = 1\n",
    "\n",
    "# Loop until i reaches 10\n",
    "while i <= 10:\n",
    "    print(f\"{num} × {i} = {num * i}\")  # Print multiplication result\n",
    "    i += 1  # Increment counter\n"
   ]
  },
  {
   "cell_type": "markdown",
   "id": "2ce78980",
   "metadata": {},
   "source": [
    "Example: Using a `while` Loop to Find the Factorial of a Number\n",
    "    \n",
    "A factorial of a number `N (N!)` is the product of all positive integers from `1` to `N`:"
   ]
  },
  {
   "cell_type": "markdown",
   "id": "443b3121",
   "metadata": {},
   "source": [
    "5! = 5 × 4 × 3 × 2 × 1 = 120"
   ]
  },
  {
   "cell_type": "code",
   "execution_count": null,
   "id": "2e838468",
   "metadata": {},
   "outputs": [],
   "source": [
    "# Factorial Calculation using a while loop\n",
    "\n",
    "# Get user input\n",
    "num = int(input(\"Enter a number to calculate its factorial: \"))\n",
    "\n",
    "# Initialize factorial result and counter\n",
    "factorial = 1\n",
    "i = 1\n",
    "\n",
    "# While loop to calculate factorial\n",
    "while i <= num:\n",
    "    factorial *= i  # Multiply current number\n",
    "    i += 1  # Increment counter\n",
    "\n",
    "# Print result\n",
    "print(f\"The factorial of {num} is: {factorial}\")\n"
   ]
  },
  {
   "cell_type": "code",
   "execution_count": null,
   "id": "304d00a9",
   "metadata": {},
   "outputs": [],
   "source": []
  },
  {
   "cell_type": "code",
   "execution_count": null,
   "id": "9e8d47b1",
   "metadata": {},
   "outputs": [],
   "source": []
  },
  {
   "cell_type": "markdown",
   "id": "69b9e55d",
   "metadata": {},
   "source": [
    "## **4️⃣ Control Flow Statements (`break`, `continue`, `pass`)**\n",
    "These statements modify loop behavior:\n",
    "\n",
    "- **`break`**: Exits the loop immediately.\n",
    "- **`continue`**: Skips the current iteration and continues with the next.\n",
    "- **`pass`**: Does nothing and acts as a placeholder."
   ]
  },
  {
   "cell_type": "code",
   "execution_count": null,
   "id": "81f8e76b",
   "metadata": {},
   "outputs": [],
   "source": [
    "# Break example (Stops loop when number is 5)\n",
    "for num in range(1, 10):\n",
    "    if num == 5:\n",
    "        break  # Stops the loop\n",
    "    print(num)"
   ]
  },
  {
   "cell_type": "code",
   "execution_count": null,
   "id": "87320e4e",
   "metadata": {},
   "outputs": [],
   "source": [
    "# Continue example (Skips number 3)\n",
    "for num in range(1, 6):\n",
    "    if num == 3:\n",
    "        continue  # Skips this iteration\n",
    "    print(num)"
   ]
  },
  {
   "cell_type": "code",
   "execution_count": null,
   "id": "81efdb42",
   "metadata": {},
   "outputs": [],
   "source": [
    "# Pass example (Does nothing, avoids syntax error)\n",
    "for num in range(1, 6):\n",
    "    if num == 3:\n",
    "        pass  # Placeholder for future code\n",
    "    print(num)"
   ]
  },
  {
   "cell_type": "code",
   "execution_count": null,
   "id": "68dab527",
   "metadata": {},
   "outputs": [],
   "source": []
  },
  {
   "cell_type": "markdown",
   "id": "aa6e6bf9",
   "metadata": {},
   "source": [
    "## **📝 Quiz 1: What Will Be the Output?**\n",
    "Predict the output before running the code."
   ]
  },
  {
   "cell_type": "code",
   "execution_count": null,
   "id": "53964084",
   "metadata": {},
   "outputs": [],
   "source": [
    "for i in range(1, 6):\n",
    "    if i == 4:\n",
    "        break\n",
    "    print(i)"
   ]
  },
  {
   "cell_type": "markdown",
   "id": "1fb01cf5",
   "metadata": {},
   "source": [
    "## **📝 Quiz 2: Fill in the Blanks**\n",
    "Fill in the blanks to print **only even numbers** from 1 to 10.\n",
    "\n",
    "```python\n",
    "for num in range(1, 11):\n",
    "    if num % 2 != 0:\n",
    "        ______  # Skip odd numbers\n",
    "    print(num)\n",
    "```"
   ]
  },
  {
   "cell_type": "markdown",
   "id": "4f82c847",
   "metadata": {},
   "source": [
    "### ✅ **Answer to Quiz 2**\n",
    "Replace `______` with `continue` to skip odd numbers:\n",
    "\n",
    "```python\n",
    "for num in range(1, 11):\n",
    "    if num % 2 != 0:\n",
    "        continue  # Skips odd numbers\n",
    "    print(num)\n",
    "```"
   ]
  },
  {
   "cell_type": "code",
   "execution_count": null,
   "id": "59b6dc58",
   "metadata": {},
   "outputs": [],
   "source": []
  },
  {
   "cell_type": "code",
   "execution_count": null,
   "id": "a04f20c4",
   "metadata": {},
   "outputs": [],
   "source": []
  },
  {
   "cell_type": "markdown",
   "id": "07b66a0b",
   "metadata": {},
   "source": [
    "## **📌 Summary of Session 2**\n",
    "✔ **Operators:** Arithmetic, Comparison, Logical.\n",
    "\n",
    "✔ **Conditional Statements:** `if`, `elif`, `else`.\n",
    "\n",
    "✔ **Loops:** `for` and `while`.\n",
    "\n",
    "✔ **Control Flow:** `break`, `continue`, `pass`.\n",
    "\n",
    "\n",
    "🚀 **Next Up: Functions and Data Structures!**"
   ]
  },
  {
   "cell_type": "markdown",
   "id": "7cc239c2",
   "metadata": {},
   "source": [
    "# 🎉 **HURRAY! We Have Completed Our First Session!** 🎉\n",
    "\n",
    "👏 **Great job, everyone!** You've successfully completed **Session 2: Operators and Control Flow** 🚀\n",
    "\n",
    "---\n",
    "\n",
    "## ❓ **Any Questions?**\n",
    "If you have any questions, feel free to ask! I'm here to help. 😊\n",
    "\n",
    "---\n",
    "\n",
    "## 📅 **See You Next Week!**\n",
    "🗓 **Same place, same time!** We'll dive into **Session 3: Functions and Data Structures!**  \n",
    "Get ready to **write smarter Python code** with `functions` and data structures! 🔄\n",
    "\n",
    "---\n",
    "\n",
    "## 🙌 **Thank You All!**\n",
    "You’re off to an **amazing** start! Keep practicing, keep coding, and see you in the next session! 🎯🔥  \n"
   ]
  },
  {
   "cell_type": "code",
   "execution_count": null,
   "id": "fc4eafe5",
   "metadata": {},
   "outputs": [],
   "source": []
  }
 ],
 "metadata": {
  "kernelspec": {
   "display_name": "Python 3 (ipykernel)",
   "language": "python",
   "name": "python3"
  },
  "language_info": {
   "codemirror_mode": {
    "name": "ipython",
    "version": 3
   },
   "file_extension": ".py",
   "mimetype": "text/x-python",
   "name": "python",
   "nbconvert_exporter": "python",
   "pygments_lexer": "ipython3",
   "version": "3.11.5"
  }
 },
 "nbformat": 4,
 "nbformat_minor": 5
}
