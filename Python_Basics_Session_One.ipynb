{
 "cells": [
  {
   "cell_type": "markdown",
   "id": "8e0c1d70",
   "metadata": {},
   "source": [
    "# **Python Basics – Syntax, Variables, and Data Types**\n",
    "\n",
    "#### By Vincent Ondima Kongo - African Institute for Mathematical Sciences (AIMS) Graduate.\n",
    "##### Bsc. Applied Statistics with IT from Maseno University \n",
    "##### Msc. Mathematical Sciences from AIMS in Collaboration with Stellenbosch University\n"
   ]
  },
  {
   "cell_type": "code",
   "execution_count": null,
   "id": "263025b4",
   "metadata": {},
   "outputs": [],
   "source": []
  },
  {
   "cell_type": "markdown",
   "id": "cb4c6920",
   "metadata": {},
   "source": [
    "### **Session 1**\n",
    "**📌 Learning Objectives:**\n",
    "- Install Python and Jupyter Notebook\n",
    "- Understand Python’s basic syntax (indentation, comments)\n",
    "- Work with variables and data types (`int`, `float`, `str`, `bool`)\n",
    "- Take user input using `input()`\n",
    "- Display output using `print()`"
   ]
  },
  {
   "cell_type": "markdown",
   "id": "d1e5978f",
   "metadata": {},
   "source": [
    "## **What is Python? 🐍**\n",
    "Python is a **high-level, interpreted, and general-purpose programming language** known for its **simplicity and readability**. \n",
    "\n",
    "🚀 **Key Features of Python:**\n",
    "- **Easy to Learn & Readable** – Uses simple and intuitive syntax.\n",
    "- **Interpreted Language** – Executes code line by line without needing compilation.\n",
    "- **Cross-Platform** – Works on Windows, macOS, and Linux.\n",
    "- **Large Community & Libraries** – Supports vast libraries for various tasks.\n",
    "- **Object-Oriented & Functional** – Supports multiple programming paradigms.\n",
    "\n",
    "---\n",
    "\n",
    "## **What Can Python Be Used For? 🤔**\n",
    "Python is one of the most versatile programming languages, used in a variety of fields:\n",
    "\n",
    "### **🔹 1. Web Development**\n",
    "Python powers popular web frameworks like:\n",
    "- **Django** and **Flask** – Used for building secure and scalable web applications.\n",
    "\n",
    "### **🔹 2. Data Science & Machine Learning**\n",
    "- **NumPy**, **Pandas**, **Matplotlib**, **Scikit-Learn**, and **TensorFlow** help process and analyze large datasets.\n",
    "- Used in AI, predictive analytics, and automation.\n",
    "\n",
    "### **🔹 3. Automation & Scripting**\n",
    "- Automates repetitive tasks like **file handling**, **data scraping**, and **email automation**.\n",
    "- Commonly used for **testing** and **system administration**.\n",
    "\n",
    "### **🔹 4. Game Development 🎮**\n",
    "- Used in game engines like **Pygame** and **Unity (via C# bindings)**.\n",
    "\n",
    "### **🔹 5. Cybersecurity & Ethical Hacking**\n",
    "- Used for penetration testing and security research with tools like **Scapy** and **Pwntools**.\n",
    "\n",
    "### **🔹 6. Internet of Things (IoT)**\n",
    "- Works with **Raspberry Pi** and microcontrollers for smart devices.\n",
    "\n",
    "### **🔹 7. Finance & FinTech 💰**\n",
    "- Helps in stock market analysis, algorithmic trading, and risk assessment.\n",
    "\n",
    "### **🔹 8. Desktop Applications**\n",
    "- Used with **Tkinter** and **PyQt** to develop GUI-based applications.\n",
    "\n",
    "---\n",
    "\n",
    "### **Why Learn Python?**\n",
    "- **Beginner-Friendly:** Simple and readable syntax.\n",
    "- **Highly Versatile:** Can be used in many industries.\n",
    "- **In-Demand Skill:** Many top companies (Google, IBM, Microsoft, NASA, Netflix) use Python.\n",
    "\n",
    "🎯 **Python is a great language to start with and master for future growth in tech!**\n"
   ]
  },
  {
   "cell_type": "markdown",
   "id": "75a56cee",
   "metadata": {},
   "source": [
    "## **1️ Installing Python and Jupyter Notebook**\n",
    "Before writing Python code, ensure Python and Jupyter Notebook are installed.\n",
    "\n",
    "---\n",
    "\n",
    "### **🔹 Recommended: Installing Python via Anaconda (Best for Beginners)**\n",
    "Anaconda is a popular distribution that **comes with Python, Jupyter Notebook, and essential libraries pre-installed**. It is highly recommended because:\n",
    "- ✔ It includes **Jupyter Notebook, NumPy, Pandas, Matplotlib**, and more.\n",
    "- ✔ It simplifies package management and avoids dependency issues.\n",
    "- ✔ It works on **Windows, macOS, and Linux**.\n",
    "\n",
    "#### **Installing Anaconda:**\n",
    "1. Download Anaconda from the official site: [Anaconda Download](https://www.anaconda.com/products/distribution).\n",
    "2. Follow the installation instructions for your operating system.\n",
    "3. Once installed, open **Anaconda Navigator** and launch **Jupyter Notebook**.\n",
    "\n",
    "✅ To verify the installation, open a terminal or command prompt and run:\n",
    "```bash\n",
    "conda --version\n",
    "python --version\n"
   ]
  },
  {
   "cell_type": "markdown",
   "id": "d047bb52",
   "metadata": {},
   "source": [
    "## 🔹 Alternative: Installing Python Manually\n",
    "If you don’t want to use **Anaconda**, you can install Python manually.\n",
    "\n",
    "---\n",
    "\n",
    "### **1️⃣ Installing Python**\n",
    "1. Download Python from the official website: [Python.org](https://www.python.org/downloads/).\n",
    "2. Choose the latest version for your operating system and start the installation.\n",
    "3. **IMPORTANT:** During installation, check the box **\"Add Python to PATH\"** to make Python accessible from the command line.\n",
    "4. Verify the installation by running:\n",
    "   ```bash\n",
    "   python --version\n"
   ]
  },
  {
   "cell_type": "markdown",
   "id": "15463bcd",
   "metadata": {},
   "source": [
    "### **2️⃣ Installing Jupyter Notebook Manually**\n",
    "If you installed Python manually, you need to install Jupyter Notebook separately.\n",
    "\n",
    "---\n",
    "\n",
    "#### **Step 1: Install `pip` (if not already installed)**\n",
    "`pip` is Python’s package manager and usually comes with Python. To check if `pip` is installed, run:\n",
    "```bash\n",
    "pip --version\n"
   ]
  },
  {
   "cell_type": "markdown",
   "id": "e55289e2",
   "metadata": {},
   "source": [
    "If `pip` is not installed, install it with:\n",
    "```bash\n",
    "python -m ensurepip --default-pip\n"
   ]
  },
  {
   "cell_type": "markdown",
   "id": "d65fdda3",
   "metadata": {},
   "source": [
    "#### **Step 2: Install Jupyter Notebook**  \n",
    "Use `pip` to install Jupyter Notebook:  `pip install notebook`\n"
   ]
  },
  {
   "cell_type": "markdown",
   "id": "04c4f1cd",
   "metadata": {},
   "source": [
    "#### **Step 3: Start Jupyter Notebook**\n",
    "Once installed, start Jupyter Notebook by running:\n",
    "`jupyter notebook`"
   ]
  },
  {
   "cell_type": "code",
   "execution_count": null,
   "id": "ad8fda7c",
   "metadata": {},
   "outputs": [],
   "source": []
  },
  {
   "cell_type": "code",
   "execution_count": null,
   "id": "3f7d6ead",
   "metadata": {},
   "outputs": [],
   "source": []
  },
  {
   "cell_type": "markdown",
   "id": "bfbd0e76",
   "metadata": {},
   "source": [
    "# **2️⃣ Python Syntax**\n",
    "\n",
    "## **What is Syntax?**\n",
    "**Syntax** refers to the **set of rules that define how a program is written and interpreted** by a programming language. Every programming language has its own syntax, and Python is known for its **simple and readable** syntax.\n",
    "\n",
    "Python’s syntax is designed to be **beginner-friendly** and follows a structured approach:\n",
    "✔ Uses **indentation** instead of curly braces `{}`  \n",
    "✔ Statements are **written in lines** instead of being grouped with semicolons `;`  \n",
    "✔ Uses **human-readable keywords** rather than complex symbols  \n"
   ]
  },
  {
   "cell_type": "markdown",
   "id": "1acb8e59",
   "metadata": {},
   "source": [
    "## **🔹 Basic Python Syntax Rules**\n",
    "Python's syntax is designed to be **clear and concise**. Below are some fundamental rules you should know:"
   ]
  },
  {
   "cell_type": "markdown",
   "id": "ecfb8f4a",
   "metadata": {},
   "source": [
    "### **1️⃣ Python is Case-Sensitive**\n",
    "Python treats uppercase and lowercase letters as different.  \n",
    "For example:"
   ]
  },
  {
   "cell_type": "code",
   "execution_count": 2,
   "id": "5d801c27",
   "metadata": {},
   "outputs": [
    {
     "name": "stdout",
     "output_type": "stream",
     "text": [
      "Alice\n"
     ]
    }
   ],
   "source": [
    "# Case sensitivity in Python\n",
    "Name = \"Alice\"\n",
    "# Name = \"Bob\"\n",
    "\n",
    "print(name)  # Outputs: Alice\n",
    "# print(Name)  # Outputs: Bob"
   ]
  },
  {
   "cell_type": "code",
   "execution_count": null,
   "id": "1411626b",
   "metadata": {},
   "outputs": [],
   "source": []
  },
  {
   "cell_type": "markdown",
   "id": "90b62f55",
   "metadata": {},
   "source": [
    "### **2️⃣ Indentation is Mandatory**\n",
    "Python uses **indentation** (spaces or tabs) to define code blocks. Unlike other languages that use `{}` for code blocks, Python enforces indentation.\n",
    "\n",
    "✅ **Correct indentation:**"
   ]
  },
  {
   "cell_type": "code",
   "execution_count": 4,
   "id": "b07fdfdf",
   "metadata": {},
   "outputs": [
    {
     "name": "stdout",
     "output_type": "stream",
     "text": [
      "This is correctly indented\n"
     ]
    }
   ],
   "source": [
    "# Correct indentation\n",
    "if True:\n",
    "    print(\"This is correctly indented\")"
   ]
  },
  {
   "cell_type": "markdown",
   "id": "8ec3cb1f",
   "metadata": {},
   "source": [
    "❌ **Incorrect indentation (will cause an error):**"
   ]
  },
  {
   "cell_type": "code",
   "execution_count": 6,
   "id": "4f5fe043",
   "metadata": {},
   "outputs": [],
   "source": [
    "# Incorrect indentation (Uncomment to see the error)\n",
    "# if True:\n",
    "# print(\"This will cause an IndentationError\")"
   ]
  },
  {
   "cell_type": "markdown",
   "id": "7405f182",
   "metadata": {},
   "source": [
    "### **3️⃣ Statements in Python**\n",
    "- Each line of Python **contains a single statement**.\n",
    "- You **don’t need semicolons `;`** at the end of each line.\n",
    "- You can write multiple statements on one line using `;` (but it's not recommended).\n",
    "\n",
    "**Example:**"
   ]
  },
  {
   "cell_type": "code",
   "execution_count": null,
   "id": "f1250fab",
   "metadata": {},
   "outputs": [],
   "source": [
    "# Python statements\n",
    "x = 10\n",
    "y = 20\n",
    "z = x + y  # This is correct\n",
    "\n",
    "a = 5; b = 10; c = a + b  # Works but not recommended"
   ]
  },
  {
   "cell_type": "markdown",
   "id": "cd9a2a87",
   "metadata": {},
   "source": [
    "### **4️⃣ Line Continuation**\n",
    "If a statement is too long, you can **split it into multiple lines** using `\\`:"
   ]
  },
  {
   "cell_type": "code",
   "execution_count": 7,
   "id": "c27ce2a5",
   "metadata": {},
   "outputs": [
    {
     "name": "stdout",
     "output_type": "stream",
     "text": [
      "210\n"
     ]
    }
   ],
   "source": [
    "# Line continuation using backslash\n",
    "total = 10 + 20 + 30 + \\\n",
    "        40 + 50 + 60\n",
    "print(total)  # Outputs: 210"
   ]
  },
  {
   "cell_type": "markdown",
   "id": "ae223ed0",
   "metadata": {},
   "source": [
    "Alternatively, you can use **parentheses `()`**:"
   ]
  },
  {
   "cell_type": "code",
   "execution_count": 8,
   "id": "56f4a644",
   "metadata": {},
   "outputs": [
    {
     "name": "stdout",
     "output_type": "stream",
     "text": [
      "210\n"
     ]
    }
   ],
   "source": [
    "# Line continuation using parentheses\n",
    "total = (10 + 20 + 30 +\n",
    "         40 + 50 + 60)\n",
    "print(total)  # Outputs: 210"
   ]
  },
  {
   "cell_type": "markdown",
   "id": "a6621dc1",
   "metadata": {},
   "source": [
    "## **🔹 Comments in Python**\n",
    "Comments are used to **explain code** and are ignored during execution."
   ]
  },
  {
   "cell_type": "markdown",
   "id": "7ee129da",
   "metadata": {},
   "source": [
    "### **1️⃣ Single-Line Comments (`#`)**\n",
    "Use `#` to write comments:"
   ]
  },
  {
   "cell_type": "code",
   "execution_count": 9,
   "id": "4400ae0a",
   "metadata": {},
   "outputs": [
    {
     "name": "stdout",
     "output_type": "stream",
     "text": [
      "Hello, World!\n"
     ]
    }
   ],
   "source": [
    "# This is a single-line comment\n",
    "print(\"Hello, World!\")  # This prints a message"
   ]
  },
  {
   "cell_type": "markdown",
   "id": "41835ba8",
   "metadata": {},
   "source": [
    "### **2️⃣ Multi-Line Comments (`'''` or `\"\"\"`)**\n",
    "Python doesn’t have official multi-line comments, but you can use triple quotes:"
   ]
  },
  {
   "cell_type": "code",
   "execution_count": 10,
   "id": "156fa5c0",
   "metadata": {},
   "outputs": [
    {
     "name": "stdout",
     "output_type": "stream",
     "text": [
      "Python ignores multi-line comments.\n"
     ]
    }
   ],
   "source": [
    "'''\n",
    "This is a multi-line comment.\n",
    "It spans multiple lines.\n",
    "'''\n",
    "print(\"Python ignores multi-line comments.\")"
   ]
  },
  {
   "cell_type": "markdown",
   "id": "455dd84b",
   "metadata": {},
   "source": [
    "## **📝 Quiz 1: Identify the Error**\n",
    "Can you find the syntax error in the following code?\n"
   ]
  },
  {
   "cell_type": "code",
   "execution_count": 11,
   "id": "bc617d54",
   "metadata": {},
   "outputs": [
    {
     "name": "stdout",
     "output_type": "stream",
     "text": [
      "10 is greater than 5\n"
     ]
    }
   ],
   "source": [
    "# Identify the error\n",
    "if 10 > 5:\n",
    "    print(\"10 is greater than 5\")"
   ]
  },
  {
   "cell_type": "markdown",
   "id": "ae9fe255",
   "metadata": {},
   "source": [
    "## **📝 Quiz 2: What Will This Print?**\n",
    "What will the following code output?\n"
   ]
  },
  {
   "cell_type": "code",
   "execution_count": 12,
   "id": "9d2d195a",
   "metadata": {},
   "outputs": [
    {
     "name": "stdout",
     "output_type": "stream",
     "text": [
      "15\n"
     ]
    }
   ],
   "source": [
    "# This is a comment\n",
    "x = 5\n",
    "y = x + 10\n",
    "print(y)  # What will this print?"
   ]
  },
  {
   "cell_type": "code",
   "execution_count": null,
   "id": "030c0e88",
   "metadata": {},
   "outputs": [],
   "source": []
  },
  {
   "cell_type": "code",
   "execution_count": null,
   "id": "fee7f6e7",
   "metadata": {},
   "outputs": [],
   "source": []
  },
  {
   "cell_type": "markdown",
   "id": "20737ab9",
   "metadata": {},
   "source": [
    "# **3️⃣ Variables and Data Types**\n",
    "\n",
    "## **What are Variables?**\n",
    "A **variable** is a named storage location that holds a value in memory. In Python, you don't need to declare a variable type explicitly; Python automatically determines the data type when you assign a value.\n",
    "\n",
    "**Example:**\n",
    "```python\n",
    "x = 10  # x is an integer\n",
    "name = 'Alice'  # name is a string\n",
    "```"
   ]
  },
  {
   "cell_type": "markdown",
   "id": "216ebf89",
   "metadata": {},
   "source": [
    "## **What are Data Types?**\n",
    "A **data type** defines the kind of value a variable can store. Python provides several built-in data types."
   ]
  },
  {
   "cell_type": "markdown",
   "id": "f1079e03",
   "metadata": {},
   "source": [
    "### **Common Data Types in Python**\n",
    "| **Data Type** | **Example** | **Description** |\n",
    "|--------------|------------|---------------|\n",
    "| `int` | `10, -5, 1000` | Whole numbers |\n",
    "| `float` | `3.14, -0.5, 2.0` | Decimal numbers |\n",
    "| `str` | `'Hello'`, `'Python'` | Text data (Strings) |\n",
    "| `bool` | `True, False` | Boolean values |\n",
    "| `list` | `[1, 2, 3]` | Ordered, mutable collection |\n",
    "| `tuple` | `(1, 2, 3)` | Ordered, immutable collection |\n",
    "| `dict` | `{'name': 'Alice', 'age': 25}` | Key-value pairs |\n"
   ]
  },
  {
   "cell_type": "markdown",
   "id": "0d2161ff",
   "metadata": {},
   "source": [
    "## **1️⃣ Assigning Variables**\n",
    "Assign values to variables using the `=` operator."
   ]
  },
  {
   "cell_type": "code",
   "execution_count": 13,
   "id": "e59ca15a",
   "metadata": {
    "scrolled": true
   },
   "outputs": [
    {
     "name": "stdout",
     "output_type": "stream",
     "text": [
      "x: 10\n",
      "pi: 3.14\n",
      "name: Alice\n",
      "Is Python fun? True\n"
     ]
    }
   ],
   "source": [
    "# Assigning variables\n",
    "x = 10          # Integer\n",
    "pi = 3.14       # Float\n",
    "name = \"Alice\"  # String\n",
    "is_python_fun = True  # Boolean\n",
    "\n",
    "# Printing variables\n",
    "print(\"x:\", x)\n",
    "print(\"pi:\", pi)\n",
    "print(\"name:\", name)\n",
    "print(\"Is Python fun?\", is_python_fun)\n"
   ]
  },
  {
   "cell_type": "code",
   "execution_count": 14,
   "id": "ca5ca18c",
   "metadata": {},
   "outputs": [
    {
     "data": {
      "text/plain": [
       "int"
      ]
     },
     "execution_count": 14,
     "metadata": {},
     "output_type": "execute_result"
    }
   ],
   "source": [
    "type(x)"
   ]
  },
  {
   "cell_type": "markdown",
   "id": "1d461a4e",
   "metadata": {},
   "source": [
    "## **2️⃣ Checking Data Types**\n",
    "Use the `type()` function to check the data type of a variable."
   ]
  },
  {
   "cell_type": "code",
   "execution_count": 15,
   "id": "6d0cb328",
   "metadata": {},
   "outputs": [
    {
     "name": "stdout",
     "output_type": "stream",
     "text": [
      "<class 'int'>\n",
      "<class 'float'>\n",
      "<class 'str'>\n",
      "<class 'bool'>\n"
     ]
    }
   ],
   "source": [
    "# Checking types\n",
    "print(type(10))       # <class 'int'>\n",
    "print(type(3.14))     # <class 'float'>\n",
    "print(type(\"Hello\"))  # <class 'str'>\n",
    "print(type(True))     # <class 'bool'>"
   ]
  },
  {
   "cell_type": "markdown",
   "id": "943e620f",
   "metadata": {},
   "source": [
    "## **3️⃣ Type Conversion (Casting)**\n",
    "Convert values from one type to another using `int()`, `float()`, `str()`, and `bool()`."
   ]
  },
  {
   "cell_type": "code",
   "execution_count": 16,
   "id": "0cb56e45",
   "metadata": {},
   "outputs": [
    {
     "name": "stdout",
     "output_type": "stream",
     "text": [
      "Converted: 100 3 True\n"
     ]
    }
   ],
   "source": [
    "# Type conversion examples\n",
    "num_str = \"100\"  # String\n",
    "num_int = int(num_str)  # Convert string to integer\n",
    "\n",
    "pi = 3.14\n",
    "pi_int = int(pi)  # Convert float to integer (truncates decimal part)\n",
    "\n",
    "bool_value = bool(1)  # Converts 1 to True, 0 to False\n",
    "\n",
    "print(\"Converted:\", num_int, pi_int, bool_value)"
   ]
  },
  {
   "cell_type": "markdown",
   "id": "04247cb9",
   "metadata": {},
   "source": [
    "## **4️⃣ Special Data Types**\n",
    "\n",
    "### **Lists (Mutable Ordered Collection)**\n",
    "Lists are ordered collections that can hold multiple values.\n",
    "\n",
    "**Example:**"
   ]
  },
  {
   "cell_type": "code",
   "execution_count": null,
   "id": "7ea5c6f5",
   "metadata": {},
   "outputs": [],
   "source": [
    "# Lists in Python\n",
    "fruits = [\"Apple\", \"Banana\", \"Cherry\"]\n",
    "print(fruits)  # Outputs: ['Apple', 'Banana', 'Cherry']\n",
    "\n",
    "# Accessing elements\n",
    "print(fruits[0])  # Outputs: Apple\n",
    "\n",
    "# Modifying lists\n",
    "fruits.append(\"Mango\")\n",
    "print(fruits)  # Outputs: ['Apple', 'Banana', 'Cherry', 'Mango']"
   ]
  },
  {
   "cell_type": "markdown",
   "id": "99ba0678",
   "metadata": {},
   "source": [
    "### **Tuples (Immutable Ordered Collection)**\n",
    "Tuples are similar to lists, but they **cannot be modified** after creation.\n",
    "\n",
    "**Example:**"
   ]
  },
  {
   "cell_type": "code",
   "execution_count": null,
   "id": "4f3979ed",
   "metadata": {},
   "outputs": [],
   "source": [
    "# Tuples in Python\n",
    "colors = (\"Red\", \"Green\", \"Blue\")\n",
    "print(colors)  # Outputs: ('Red', 'Green', 'Blue')\n",
    "\n",
    "# Accessing elements\n",
    "print(colors[1])  # Outputs: Green\n",
    "\n",
    "# Tuples are immutable (this line will cause an error if uncommented)\n",
    "# colors[1] = \"Yellow"
   ]
  },
  {
   "cell_type": "markdown",
   "id": "8ab4c694",
   "metadata": {},
   "source": [
    "### **Dictionaries (Key-Value Pairs)**\n",
    "Dictionaries store data in key-value pairs.\n",
    "\n",
    "**Example:**"
   ]
  },
  {
   "cell_type": "code",
   "execution_count": 17,
   "id": "e592e74e",
   "metadata": {},
   "outputs": [
    {
     "name": "stdout",
     "output_type": "stream",
     "text": [
      "{'name': 'Alice', 'age': 25, 'city': 'New York'}\n",
      "Alice\n",
      "{'name': 'Alice', 'age': 26, 'city': 'New York'}\n"
     ]
    }
   ],
   "source": [
    "# Dictionaries in Python\n",
    "person = {\"name\": \"Alice\", \"age\": 25, \"city\": \"New York\"}\n",
    "print(person)  # Outputs: {'name': 'Alice', 'age': 25, 'city': 'New York'}\n",
    "\n",
    "# Accessing values\n",
    "print(person[\"name\"])  # Outputs: Alice\n",
    "\n",
    "# Modifying values\n",
    "person[\"age\"] = 26\n",
    "print(person)  # Outputs: {'name': 'Alice', 'age': 26, 'city': 'New York'}"
   ]
  },
  {
   "cell_type": "markdown",
   "id": "c00ecc42",
   "metadata": {},
   "source": [
    "## **📝 Quiz 1: Identify the Data Type**\n",
    "**Guess the data type of each variable before running the code.**"
   ]
  },
  {
   "cell_type": "code",
   "execution_count": null,
   "id": "af2b802d",
   "metadata": {},
   "outputs": [],
   "source": [
    "x = 42\n",
    "y = \"Hello, World!\"\n",
    "z = 3.14\n",
    "is_valid = False\n",
    "a = '10'\n",
    "b = 3.0\n",
    "\n",
    "print(type(x))\n",
    "print(type(y))\n",
    "print(type(z))\n",
    "print(type(is_valid))"
   ]
  },
  {
   "cell_type": "markdown",
   "id": "b240ab00",
   "metadata": {},
   "source": [
    "## **📝 Quiz 2: What Will Happen?**\n",
    "Predict the output before running the code."
   ]
  },
  {
   "cell_type": "code",
   "execution_count": 18,
   "id": "3af8d00d",
   "metadata": {},
   "outputs": [
    {
     "ename": "TypeError",
     "evalue": "can only concatenate str (not \"int\") to str",
     "output_type": "error",
     "traceback": [
      "\u001b[1;31m---------------------------------------------------------------------------\u001b[0m",
      "\u001b[1;31mTypeError\u001b[0m                                 Traceback (most recent call last)",
      "Cell \u001b[1;32mIn[18], line 2\u001b[0m\n\u001b[0;32m      1\u001b[0m num \u001b[38;5;241m=\u001b[39m \u001b[38;5;124m\"\u001b[39m\u001b[38;5;124m25\u001b[39m\u001b[38;5;124m\"\u001b[39m\n\u001b[1;32m----> 2\u001b[0m total \u001b[38;5;241m=\u001b[39m num \u001b[38;5;241m+\u001b[39m \u001b[38;5;241m5\u001b[39m  \u001b[38;5;66;03m# What will happen here?\u001b[39;00m\n\u001b[0;32m      3\u001b[0m \u001b[38;5;28mprint\u001b[39m(total)\n",
      "\u001b[1;31mTypeError\u001b[0m: can only concatenate str (not \"int\") to str"
     ]
    }
   ],
   "source": [
    "num = \"25\"\n",
    "total = num + 5  # What will happen here?\n",
    "print(total)"
   ]
  },
  {
   "cell_type": "markdown",
   "id": "a0383352",
   "metadata": {},
   "source": [
    "### ✅ **Answer to Quiz 2**\n",
    "This will cause a **TypeError** because `num` is a string and cannot be added to an integer.\n",
    "\n",
    "✅ **Fixed Code:**"
   ]
  },
  {
   "cell_type": "code",
   "execution_count": 19,
   "id": "2d85cb1f",
   "metadata": {},
   "outputs": [
    {
     "name": "stdout",
     "output_type": "stream",
     "text": [
      "30\n"
     ]
    }
   ],
   "source": [
    "num = \"25\"\n",
    "total = int(num) + 5  # Convert to integer first\n",
    "print(total)  # Outputs: 30"
   ]
  },
  {
   "cell_type": "code",
   "execution_count": 22,
   "id": "83b40ae5",
   "metadata": {},
   "outputs": [
    {
     "data": {
      "text/plain": [
       "'boyboyboyboyboyboyboyboyboyboy'"
      ]
     },
     "execution_count": 22,
     "metadata": {},
     "output_type": "execute_result"
    }
   ],
   "source": [
    "\"boy\"*10"
   ]
  },
  {
   "cell_type": "code",
   "execution_count": null,
   "id": "b15464b3",
   "metadata": {},
   "outputs": [],
   "source": []
  },
  {
   "cell_type": "markdown",
   "id": "4c12ab6b",
   "metadata": {},
   "source": [
    "# **4️⃣ Input and Output in Python**\n",
    "\n",
    "## **What is Input and Output?**\n",
    "In Python, **input** allows users to provide data to a program, and **output** displays data on the screen.\n",
    "\n",
    "- **Input (`input()`)**: Captures user input.\n",
    "- **Output (`print()`)**: Displays data to the screen."
   ]
  },
  {
   "cell_type": "markdown",
   "id": "994b7e65",
   "metadata": {},
   "source": [
    "## **1️⃣ Displaying Output using `print()`**\n",
    "Use the `print()` function to display messages, variables, or expressions."
   ]
  },
  {
   "cell_type": "code",
   "execution_count": 23,
   "id": "e8b95454",
   "metadata": {},
   "outputs": [
    {
     "name": "stdout",
     "output_type": "stream",
     "text": [
      "Hello, Python!\n",
      "42\n",
      "3.14\n"
     ]
    }
   ],
   "source": [
    "# Printing text and numbers\n",
    "print(\"Hello, Python!\")  \n",
    "print(42)  # Printing a number\n",
    "print(3.14)  # Printing a float"
   ]
  },
  {
   "cell_type": "markdown",
   "id": "7e08b7ac",
   "metadata": {},
   "source": [
    "### **Printing Multiple Values**\n",
    "You can print multiple values by separating them with commas `,`."
   ]
  },
  {
   "cell_type": "code",
   "execution_count": 24,
   "id": "f067da65",
   "metadata": {},
   "outputs": [
    {
     "name": "stdout",
     "output_type": "stream",
     "text": [
      "Name: Alice Age: 25\n"
     ]
    }
   ],
   "source": [
    "# Printing multiple values\n",
    "name = \"Alice\"\n",
    "age = 25\n",
    "print(\"Name:\", name, \"Age:\", age)"
   ]
  },
  {
   "cell_type": "markdown",
   "id": "cc737594",
   "metadata": {},
   "source": [
    "### **Formatted Output using f-strings**\n",
    "Use **f-strings** (`f''`) to format strings in an easy-to-read way."
   ]
  },
  {
   "cell_type": "code",
   "execution_count": 25,
   "id": "1baab7b8",
   "metadata": {},
   "outputs": [
    {
     "name": "stdout",
     "output_type": "stream",
     "text": [
      "My name is Bob and I am 30 years old.\n"
     ]
    }
   ],
   "source": [
    "# Using f-strings\n",
    "name = \"Bob\"\n",
    "age = 30\n",
    "print(f\"My name is {name} and I am {age} years old.\")"
   ]
  },
  {
   "cell_type": "markdown",
   "id": "0d0d8b8d",
   "metadata": {},
   "source": [
    "## **2️⃣ Taking User Input using `input()`**\n",
    "The `input()` function allows users to enter values as strings."
   ]
  },
  {
   "cell_type": "code",
   "execution_count": 26,
   "id": "12164b05",
   "metadata": {},
   "outputs": [
    {
     "name": "stdout",
     "output_type": "stream",
     "text": [
      "Enter your name: Boaz\n",
      "Hello, Boaz!\n"
     ]
    }
   ],
   "source": [
    "# Taking user input\n",
    "name = input(\"Enter your name: \")\n",
    "print(\"Hello,\", name + \"!\")"
   ]
  },
  {
   "cell_type": "code",
   "execution_count": 27,
   "id": "85812b98",
   "metadata": {
    "scrolled": true
   },
   "outputs": [
    {
     "name": "stdout",
     "output_type": "stream",
     "text": [
      "Enter your name: Joyce\n",
      "Enter your age: 20\n",
      "Hello, Joyce! You are 20 years old.\n"
     ]
    }
   ],
   "source": [
    "# Taking user input\n",
    "name = input(\"Enter your name: \")  \n",
    "age = input(\"Enter your age: \")  \n",
    "\n",
    "# Printing formatted output\n",
    "print(\"Hello,\", name + \"! You are \" + age + \" years old.\")"
   ]
  },
  {
   "cell_type": "code",
   "execution_count": 28,
   "id": "a06b62af",
   "metadata": {},
   "outputs": [
    {
     "data": {
      "text/plain": [
       "str"
      ]
     },
     "execution_count": 28,
     "metadata": {},
     "output_type": "execute_result"
    }
   ],
   "source": [
    "type(age)"
   ]
  },
  {
   "cell_type": "markdown",
   "id": "759f2ec5",
   "metadata": {},
   "source": [
    "### **Taking Integer and Float Input**\n",
    "By default, `input()` returns a string. To take numeric input, convert it using `int()` or `float()`."
   ]
  },
  {
   "cell_type": "code",
   "execution_count": 29,
   "id": "eca92327",
   "metadata": {
    "scrolled": true
   },
   "outputs": [
    {
     "name": "stdout",
     "output_type": "stream",
     "text": [
      "Enter your age: 30\n",
      "You are 30 years old.\n"
     ]
    }
   ],
   "source": [
    "# Taking integer input\n",
    "age = int(input(\"Enter your age: \"))  # Convert input to integer\n",
    "print(f\"You are {age} years old.\")"
   ]
  },
  {
   "cell_type": "code",
   "execution_count": 30,
   "id": "8391fdac",
   "metadata": {},
   "outputs": [
    {
     "data": {
      "text/plain": [
       "int"
      ]
     },
     "execution_count": 30,
     "metadata": {},
     "output_type": "execute_result"
    }
   ],
   "source": [
    "type(age)"
   ]
  },
  {
   "cell_type": "code",
   "execution_count": 31,
   "id": "0692d07d",
   "metadata": {},
   "outputs": [
    {
     "name": "stdout",
     "output_type": "stream",
     "text": [
      "Enter your height in meters: 1.75\n",
      "Your height is 1.75 meters.\n"
     ]
    }
   ],
   "source": [
    "# Taking float input\n",
    "height = float(input(\"Enter your height in meters: \"))  # Convert input to float\n",
    "print(f\"Your height is {height} meters.\")"
   ]
  },
  {
   "cell_type": "code",
   "execution_count": 32,
   "id": "bd1355ef",
   "metadata": {},
   "outputs": [
    {
     "data": {
      "text/plain": [
       "float"
      ]
     },
     "execution_count": 32,
     "metadata": {},
     "output_type": "execute_result"
    }
   ],
   "source": [
    "type(height)"
   ]
  },
  {
   "cell_type": "code",
   "execution_count": null,
   "id": "10c4dc72",
   "metadata": {},
   "outputs": [],
   "source": []
  },
  {
   "cell_type": "markdown",
   "id": "fabec71b",
   "metadata": {},
   "source": [
    "### We can try something nice :)"
   ]
  },
  {
   "cell_type": "code",
   "execution_count": 33,
   "id": "58b7b81c",
   "metadata": {},
   "outputs": [
    {
     "name": "stdout",
     "output_type": "stream",
     "text": [
      "\n",
      "Enter the length of the land (in meters): 100.56\n",
      "Enter the width of the land (in meters): 50.5\n",
      "The perimeter of the land is: 302.12 meters\n"
     ]
    }
   ],
   "source": [
    "# Calculate the Perimeter of Land (Rectangle)\n",
    "length = float(input(\"\\nEnter the length of the land (in meters): \"))  # User inputs the length\n",
    "width = float(input(\"Enter the width of the land (in meters): \"))  # User inputs the width\n",
    "perimeter = 2 * (length + width)  # Perimeter formula: 2(L + W)\n",
    "\n",
    "print(f\"The perimeter of the land is: {perimeter:.2f} meters\")"
   ]
  },
  {
   "cell_type": "code",
   "execution_count": null,
   "id": "48276807",
   "metadata": {},
   "outputs": [],
   "source": []
  },
  {
   "cell_type": "code",
   "execution_count": 34,
   "id": "8e314c02",
   "metadata": {},
   "outputs": [
    {
     "name": "stdout",
     "output_type": "stream",
     "text": [
      "Enter the radius of the circle (in meters): 1000\n",
      "The area of the circle is: 3141592.65 square meters\n"
     ]
    }
   ],
   "source": [
    "# Python Program to Calculate the Area of a Circle and the Perimeter of Land\n",
    "\n",
    "import math  # Importing math module for pi or we can use numpy\n",
    "\n",
    "# Calculate the Area of a Circle\n",
    "radius = float(input(\"Enter the radius of the circle (in meters): \"))  # User inputs the radius\n",
    "circle_area = math.pi * radius ** 2  # Area formula: πr²\n",
    "\n",
    "print(f\"The area of the circle is: {circle_area:.2f} square meters\")\n"
   ]
  },
  {
   "cell_type": "code",
   "execution_count": null,
   "id": "0e611c03",
   "metadata": {},
   "outputs": [],
   "source": []
  },
  {
   "cell_type": "code",
   "execution_count": null,
   "id": "d9368e7d",
   "metadata": {},
   "outputs": [],
   "source": []
  },
  {
   "cell_type": "markdown",
   "id": "67a0f79b",
   "metadata": {},
   "source": [
    "### **Taking Boolean Input**\n",
    "Python does not have direct boolean input, but you can convert user responses manually."
   ]
  },
  {
   "cell_type": "code",
   "execution_count": 35,
   "id": "8201d0fb",
   "metadata": {},
   "outputs": [
    {
     "name": "stdout",
     "output_type": "stream",
     "text": [
      "Do you like Python? (yes/no): yes\n",
      "Likes Python: True\n"
     ]
    }
   ],
   "source": [
    "# Boolean input (interpreting user input)\n",
    "likes_python = input(\"Do you like Python? (yes/no): \").strip().lower()\n",
    "is_python_fan = likes_python == \"yes\"  # Converts response to boolean\n",
    "\n",
    "print(\"Likes Python:\", is_python_fan)"
   ]
  },
  {
   "cell_type": "markdown",
   "id": "0a13d313",
   "metadata": {},
   "source": [
    "## **📝 Quiz 1: What Will This Print?**\n",
    "Guess the output before running the code."
   ]
  },
  {
   "cell_type": "code",
   "execution_count": 36,
   "id": "7d40f6b5",
   "metadata": {},
   "outputs": [
    {
     "name": "stdout",
     "output_type": "stream",
     "text": [
      "Charlie is 28 years old.\n"
     ]
    }
   ],
   "source": [
    "name = \"Charlie\"\n",
    "age = 28\n",
    "print(f\"{name} is {age} years old.\")"
   ]
  },
  {
   "cell_type": "markdown",
   "id": "bd4d8c53",
   "metadata": {},
   "source": [
    "## **📝 Quiz 2: Fix the Error**\n",
    "What is wrong with the following code?"
   ]
  },
  {
   "cell_type": "code",
   "execution_count": 37,
   "id": "0349d6b0",
   "metadata": {},
   "outputs": [
    {
     "name": "stdout",
     "output_type": "stream",
     "text": [
      "Enter your age: 35\n",
      "Twice your age is: 3535\n"
     ]
    }
   ],
   "source": [
    "age = input(\"Enter your age: \")\n",
    "double_age = age * 2  # Something is wrong here!\n",
    "print(f\"Twice your age is: {double_age}\")"
   ]
  },
  {
   "cell_type": "markdown",
   "id": "567f13cc",
   "metadata": {},
   "source": [
    "### ✅ **Answer to Quiz 2**\n",
    "The issue is that `input()` returns a string, so `age * 2` will concatenate the string instead of multiplying the number.\n",
    "\n",
    "✅ **Fixed Code:**"
   ]
  },
  {
   "cell_type": "code",
   "execution_count": 38,
   "id": "546162ce",
   "metadata": {},
   "outputs": [
    {
     "name": "stdout",
     "output_type": "stream",
     "text": [
      "Enter your age: 35\n",
      "Twice your age is: 70\n"
     ]
    }
   ],
   "source": [
    "age = int(input(\"Enter your age: \"))  # Convert input to integer\n",
    "double_age = age * 2\n",
    "print(f\"Twice your age is: {double_age}\")"
   ]
  },
  {
   "cell_type": "code",
   "execution_count": null,
   "id": "b86f074e",
   "metadata": {},
   "outputs": [],
   "source": []
  },
  {
   "cell_type": "markdown",
   "id": "b7542495",
   "metadata": {},
   "source": [
    "# 🎉 **HURRAY! We Have Completed Our First Session!** 🎉\n",
    "\n",
    "👏 **Great job, everyone!** You've successfully completed **Session 1: Python Basics** – learning about Python syntax, variables, data types, and input/output! 🚀\n",
    "\n",
    "---\n",
    "\n",
    "## ❓ **Any Questions?**\n",
    "If you have any questions, feel free to ask! I'm here to help. 😊\n",
    "\n",
    "---\n",
    "\n",
    "## 📅 **See You Next Week!**\n",
    "🗓 **Same place, same time!** We'll dive into **Session 2: Operators and Control Flow!**  \n",
    "Get ready to **write smarter Python code** with `if-else` conditions and loops! 🔄\n",
    "\n",
    "---\n",
    "\n",
    "## 🙌 **Thank You All!**\n",
    "You’re off to an **amazing** start! Keep practicing, keep coding, and see you in the next session! 🎯🔥  \n"
   ]
  },
  {
   "cell_type": "code",
   "execution_count": null,
   "id": "e8165488",
   "metadata": {},
   "outputs": [],
   "source": []
  }
 ],
 "metadata": {
  "kernelspec": {
   "display_name": "Python 3 (ipykernel)",
   "language": "python",
   "name": "python3"
  },
  "language_info": {
   "codemirror_mode": {
    "name": "ipython",
    "version": 3
   },
   "file_extension": ".py",
   "mimetype": "text/x-python",
   "name": "python",
   "nbconvert_exporter": "python",
   "pygments_lexer": "ipython3",
   "version": "3.11.5"
  }
 },
 "nbformat": 4,
 "nbformat_minor": 5
}
